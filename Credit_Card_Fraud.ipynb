{
  "nbformat": 4,
  "nbformat_minor": 0,
  "metadata": {
    "colab": {
      "provenance": [],
      "gpuType": "T4"
    },
    "kernelspec": {
      "name": "python3",
      "display_name": "Python 3"
    },
    "language_info": {
      "name": "python"
    },
    "accelerator": "GPU"
  },
  "cells": [
    {
      "cell_type": "code",
      "execution_count": 35,
      "metadata": {
        "id": "_hrcelXxRTQU"
      },
      "outputs": [],
      "source": [
        "import numpy as np\n",
        "import pandas as pd\n",
        "import seaborn as sns\n",
        "import matplotlib.pyplot as plt\n",
        "import warnings\n",
        "warnings.filterwarnings(\"ignore\")"
      ]
    },
    {
      "cell_type": "code",
      "source": [
        "from google.colab import drive\n",
        "drive.mount('/content/drive')"
      ],
      "metadata": {
        "colab": {
          "base_uri": "https://localhost:8080/"
        },
        "id": "8-f1aLmGRgmj",
        "outputId": "1ad1765b-0d6b-4562-9404-062dde8917ef"
      },
      "execution_count": 36,
      "outputs": [
        {
          "output_type": "stream",
          "name": "stdout",
          "text": [
            "Drive already mounted at /content/drive; to attempt to forcibly remount, call drive.mount(\"/content/drive\", force_remount=True).\n"
          ]
        }
      ]
    },
    {
      "cell_type": "code",
      "source": [
        "import os\n",
        "os.listdir('drive')"
      ],
      "metadata": {
        "colab": {
          "base_uri": "https://localhost:8080/"
        },
        "id": "BKCljWVIRyMG",
        "outputId": "c4a78391-bad4-4f91-e844-2ad38cd9125b"
      },
      "execution_count": 37,
      "outputs": [
        {
          "output_type": "execute_result",
          "data": {
            "text/plain": [
              "['Shareddrives',\n",
              " 'MyDrive',\n",
              " '.shortcut-targets-by-id',\n",
              " '.file-revisions-by-id',\n",
              " '.Trash-0']"
            ]
          },
          "metadata": {},
          "execution_count": 37
        }
      ]
    },
    {
      "cell_type": "code",
      "source": [
        "df = pd.read_csv(\"/content/drive/MyDrive/Fraud.csv\")"
      ],
      "metadata": {
        "id": "9tOZeJoWSP7f"
      },
      "execution_count": 38,
      "outputs": []
    },
    {
      "cell_type": "code",
      "source": [
        "df.head()"
      ],
      "metadata": {
        "colab": {
          "base_uri": "https://localhost:8080/",
          "height": 250
        },
        "id": "XeQd1tRVSlsW",
        "outputId": "ebc3ad09-10a8-4d2d-9c69-d6ac6747561c"
      },
      "execution_count": 39,
      "outputs": [
        {
          "output_type": "execute_result",
          "data": {
            "text/plain": [
              "   step      type    amount     nameOrig  oldbalanceOrg  newbalanceOrig  \\\n",
              "0     1   PAYMENT   9839.64  C1231006815       170136.0       160296.36   \n",
              "1     1   PAYMENT   1864.28  C1666544295        21249.0        19384.72   \n",
              "2     1  TRANSFER    181.00  C1305486145          181.0            0.00   \n",
              "3     1  CASH_OUT    181.00   C840083671          181.0            0.00   \n",
              "4     1   PAYMENT  11668.14  C2048537720        41554.0        29885.86   \n",
              "\n",
              "      nameDest  oldbalanceDest  newbalanceDest  isFraud  isFlaggedFraud  \n",
              "0  M1979787155             0.0             0.0        0               0  \n",
              "1  M2044282225             0.0             0.0        0               0  \n",
              "2   C553264065             0.0             0.0        1               0  \n",
              "3    C38997010         21182.0             0.0        1               0  \n",
              "4  M1230701703             0.0             0.0        0               0  "
            ],
            "text/html": [
              "\n",
              "\n",
              "  <div id=\"df-3a9e1ceb-d8a3-446e-b6b2-bc2db2d14ee2\">\n",
              "    <div class=\"colab-df-container\">\n",
              "      <div>\n",
              "<style scoped>\n",
              "    .dataframe tbody tr th:only-of-type {\n",
              "        vertical-align: middle;\n",
              "    }\n",
              "\n",
              "    .dataframe tbody tr th {\n",
              "        vertical-align: top;\n",
              "    }\n",
              "\n",
              "    .dataframe thead th {\n",
              "        text-align: right;\n",
              "    }\n",
              "</style>\n",
              "<table border=\"1\" class=\"dataframe\">\n",
              "  <thead>\n",
              "    <tr style=\"text-align: right;\">\n",
              "      <th></th>\n",
              "      <th>step</th>\n",
              "      <th>type</th>\n",
              "      <th>amount</th>\n",
              "      <th>nameOrig</th>\n",
              "      <th>oldbalanceOrg</th>\n",
              "      <th>newbalanceOrig</th>\n",
              "      <th>nameDest</th>\n",
              "      <th>oldbalanceDest</th>\n",
              "      <th>newbalanceDest</th>\n",
              "      <th>isFraud</th>\n",
              "      <th>isFlaggedFraud</th>\n",
              "    </tr>\n",
              "  </thead>\n",
              "  <tbody>\n",
              "    <tr>\n",
              "      <th>0</th>\n",
              "      <td>1</td>\n",
              "      <td>PAYMENT</td>\n",
              "      <td>9839.64</td>\n",
              "      <td>C1231006815</td>\n",
              "      <td>170136.0</td>\n",
              "      <td>160296.36</td>\n",
              "      <td>M1979787155</td>\n",
              "      <td>0.0</td>\n",
              "      <td>0.0</td>\n",
              "      <td>0</td>\n",
              "      <td>0</td>\n",
              "    </tr>\n",
              "    <tr>\n",
              "      <th>1</th>\n",
              "      <td>1</td>\n",
              "      <td>PAYMENT</td>\n",
              "      <td>1864.28</td>\n",
              "      <td>C1666544295</td>\n",
              "      <td>21249.0</td>\n",
              "      <td>19384.72</td>\n",
              "      <td>M2044282225</td>\n",
              "      <td>0.0</td>\n",
              "      <td>0.0</td>\n",
              "      <td>0</td>\n",
              "      <td>0</td>\n",
              "    </tr>\n",
              "    <tr>\n",
              "      <th>2</th>\n",
              "      <td>1</td>\n",
              "      <td>TRANSFER</td>\n",
              "      <td>181.00</td>\n",
              "      <td>C1305486145</td>\n",
              "      <td>181.0</td>\n",
              "      <td>0.00</td>\n",
              "      <td>C553264065</td>\n",
              "      <td>0.0</td>\n",
              "      <td>0.0</td>\n",
              "      <td>1</td>\n",
              "      <td>0</td>\n",
              "    </tr>\n",
              "    <tr>\n",
              "      <th>3</th>\n",
              "      <td>1</td>\n",
              "      <td>CASH_OUT</td>\n",
              "      <td>181.00</td>\n",
              "      <td>C840083671</td>\n",
              "      <td>181.0</td>\n",
              "      <td>0.00</td>\n",
              "      <td>C38997010</td>\n",
              "      <td>21182.0</td>\n",
              "      <td>0.0</td>\n",
              "      <td>1</td>\n",
              "      <td>0</td>\n",
              "    </tr>\n",
              "    <tr>\n",
              "      <th>4</th>\n",
              "      <td>1</td>\n",
              "      <td>PAYMENT</td>\n",
              "      <td>11668.14</td>\n",
              "      <td>C2048537720</td>\n",
              "      <td>41554.0</td>\n",
              "      <td>29885.86</td>\n",
              "      <td>M1230701703</td>\n",
              "      <td>0.0</td>\n",
              "      <td>0.0</td>\n",
              "      <td>0</td>\n",
              "      <td>0</td>\n",
              "    </tr>\n",
              "  </tbody>\n",
              "</table>\n",
              "</div>\n",
              "      <button class=\"colab-df-convert\" onclick=\"convertToInteractive('df-3a9e1ceb-d8a3-446e-b6b2-bc2db2d14ee2')\"\n",
              "              title=\"Convert this dataframe to an interactive table.\"\n",
              "              style=\"display:none;\">\n",
              "\n",
              "  <svg xmlns=\"http://www.w3.org/2000/svg\" height=\"24px\"viewBox=\"0 0 24 24\"\n",
              "       width=\"24px\">\n",
              "    <path d=\"M0 0h24v24H0V0z\" fill=\"none\"/>\n",
              "    <path d=\"M18.56 5.44l.94 2.06.94-2.06 2.06-.94-2.06-.94-.94-2.06-.94 2.06-2.06.94zm-11 1L8.5 8.5l.94-2.06 2.06-.94-2.06-.94L8.5 2.5l-.94 2.06-2.06.94zm10 10l.94 2.06.94-2.06 2.06-.94-2.06-.94-.94-2.06-.94 2.06-2.06.94z\"/><path d=\"M17.41 7.96l-1.37-1.37c-.4-.4-.92-.59-1.43-.59-.52 0-1.04.2-1.43.59L10.3 9.45l-7.72 7.72c-.78.78-.78 2.05 0 2.83L4 21.41c.39.39.9.59 1.41.59.51 0 1.02-.2 1.41-.59l7.78-7.78 2.81-2.81c.8-.78.8-2.07 0-2.86zM5.41 20L4 18.59l7.72-7.72 1.47 1.35L5.41 20z\"/>\n",
              "  </svg>\n",
              "      </button>\n",
              "\n",
              "\n",
              "\n",
              "    <div id=\"df-9e0984e4-2ff3-4f21-ae66-5a3d98b88c46\">\n",
              "      <button class=\"colab-df-quickchart\" onclick=\"quickchart('df-9e0984e4-2ff3-4f21-ae66-5a3d98b88c46')\"\n",
              "              title=\"Suggest charts.\"\n",
              "              style=\"display:none;\">\n",
              "\n",
              "<svg xmlns=\"http://www.w3.org/2000/svg\" height=\"24px\"viewBox=\"0 0 24 24\"\n",
              "     width=\"24px\">\n",
              "    <g>\n",
              "        <path d=\"M19 3H5c-1.1 0-2 .9-2 2v14c0 1.1.9 2 2 2h14c1.1 0 2-.9 2-2V5c0-1.1-.9-2-2-2zM9 17H7v-7h2v7zm4 0h-2V7h2v10zm4 0h-2v-4h2v4z\"/>\n",
              "    </g>\n",
              "</svg>\n",
              "      </button>\n",
              "    </div>\n",
              "\n",
              "<style>\n",
              "  .colab-df-quickchart {\n",
              "    background-color: #E8F0FE;\n",
              "    border: none;\n",
              "    border-radius: 50%;\n",
              "    cursor: pointer;\n",
              "    display: none;\n",
              "    fill: #1967D2;\n",
              "    height: 32px;\n",
              "    padding: 0 0 0 0;\n",
              "    width: 32px;\n",
              "  }\n",
              "\n",
              "  .colab-df-quickchart:hover {\n",
              "    background-color: #E2EBFA;\n",
              "    box-shadow: 0px 1px 2px rgba(60, 64, 67, 0.3), 0px 1px 3px 1px rgba(60, 64, 67, 0.15);\n",
              "    fill: #174EA6;\n",
              "  }\n",
              "\n",
              "  [theme=dark] .colab-df-quickchart {\n",
              "    background-color: #3B4455;\n",
              "    fill: #D2E3FC;\n",
              "  }\n",
              "\n",
              "  [theme=dark] .colab-df-quickchart:hover {\n",
              "    background-color: #434B5C;\n",
              "    box-shadow: 0px 1px 3px 1px rgba(0, 0, 0, 0.15);\n",
              "    filter: drop-shadow(0px 1px 2px rgba(0, 0, 0, 0.3));\n",
              "    fill: #FFFFFF;\n",
              "  }\n",
              "</style>\n",
              "\n",
              "    <script>\n",
              "      async function quickchart(key) {\n",
              "        const containerElement = document.querySelector('#' + key);\n",
              "        const charts = await google.colab.kernel.invokeFunction(\n",
              "            'suggestCharts', [key], {});\n",
              "      }\n",
              "    </script>\n",
              "\n",
              "      <script>\n",
              "\n",
              "function displayQuickchartButton(domScope) {\n",
              "  let quickchartButtonEl =\n",
              "    domScope.querySelector('#df-9e0984e4-2ff3-4f21-ae66-5a3d98b88c46 button.colab-df-quickchart');\n",
              "  quickchartButtonEl.style.display =\n",
              "    google.colab.kernel.accessAllowed ? 'block' : 'none';\n",
              "}\n",
              "\n",
              "        displayQuickchartButton(document);\n",
              "      </script>\n",
              "      <style>\n",
              "    .colab-df-container {\n",
              "      display:flex;\n",
              "      flex-wrap:wrap;\n",
              "      gap: 12px;\n",
              "    }\n",
              "\n",
              "    .colab-df-convert {\n",
              "      background-color: #E8F0FE;\n",
              "      border: none;\n",
              "      border-radius: 50%;\n",
              "      cursor: pointer;\n",
              "      display: none;\n",
              "      fill: #1967D2;\n",
              "      height: 32px;\n",
              "      padding: 0 0 0 0;\n",
              "      width: 32px;\n",
              "    }\n",
              "\n",
              "    .colab-df-convert:hover {\n",
              "      background-color: #E2EBFA;\n",
              "      box-shadow: 0px 1px 2px rgba(60, 64, 67, 0.3), 0px 1px 3px 1px rgba(60, 64, 67, 0.15);\n",
              "      fill: #174EA6;\n",
              "    }\n",
              "\n",
              "    [theme=dark] .colab-df-convert {\n",
              "      background-color: #3B4455;\n",
              "      fill: #D2E3FC;\n",
              "    }\n",
              "\n",
              "    [theme=dark] .colab-df-convert:hover {\n",
              "      background-color: #434B5C;\n",
              "      box-shadow: 0px 1px 3px 1px rgba(0, 0, 0, 0.15);\n",
              "      filter: drop-shadow(0px 1px 2px rgba(0, 0, 0, 0.3));\n",
              "      fill: #FFFFFF;\n",
              "    }\n",
              "  </style>\n",
              "\n",
              "      <script>\n",
              "        const buttonEl =\n",
              "          document.querySelector('#df-3a9e1ceb-d8a3-446e-b6b2-bc2db2d14ee2 button.colab-df-convert');\n",
              "        buttonEl.style.display =\n",
              "          google.colab.kernel.accessAllowed ? 'block' : 'none';\n",
              "\n",
              "        async function convertToInteractive(key) {\n",
              "          const element = document.querySelector('#df-3a9e1ceb-d8a3-446e-b6b2-bc2db2d14ee2');\n",
              "          const dataTable =\n",
              "            await google.colab.kernel.invokeFunction('convertToInteractive',\n",
              "                                                     [key], {});\n",
              "          if (!dataTable) return;\n",
              "\n",
              "          const docLinkHtml = 'Like what you see? Visit the ' +\n",
              "            '<a target=\"_blank\" href=https://colab.research.google.com/notebooks/data_table.ipynb>data table notebook</a>'\n",
              "            + ' to learn more about interactive tables.';\n",
              "          element.innerHTML = '';\n",
              "          dataTable['output_type'] = 'display_data';\n",
              "          await google.colab.output.renderOutput(dataTable, element);\n",
              "          const docLink = document.createElement('div');\n",
              "          docLink.innerHTML = docLinkHtml;\n",
              "          element.appendChild(docLink);\n",
              "        }\n",
              "      </script>\n",
              "    </div>\n",
              "  </div>\n"
            ]
          },
          "metadata": {},
          "execution_count": 39
        }
      ]
    },
    {
      "cell_type": "code",
      "source": [
        "df.info()"
      ],
      "metadata": {
        "colab": {
          "base_uri": "https://localhost:8080/"
        },
        "id": "hFDTKnlzSytG",
        "outputId": "09792157-ecba-4866-dcab-4edb0315f298"
      },
      "execution_count": 40,
      "outputs": [
        {
          "output_type": "stream",
          "name": "stdout",
          "text": [
            "<class 'pandas.core.frame.DataFrame'>\n",
            "RangeIndex: 6362620 entries, 0 to 6362619\n",
            "Data columns (total 11 columns):\n",
            " #   Column          Dtype  \n",
            "---  ------          -----  \n",
            " 0   step            int64  \n",
            " 1   type            object \n",
            " 2   amount          float64\n",
            " 3   nameOrig        object \n",
            " 4   oldbalanceOrg   float64\n",
            " 5   newbalanceOrig  float64\n",
            " 6   nameDest        object \n",
            " 7   oldbalanceDest  float64\n",
            " 8   newbalanceDest  float64\n",
            " 9   isFraud         int64  \n",
            " 10  isFlaggedFraud  int64  \n",
            "dtypes: float64(5), int64(3), object(3)\n",
            "memory usage: 534.0+ MB\n"
          ]
        }
      ]
    },
    {
      "cell_type": "code",
      "source": [
        "df.shape"
      ],
      "metadata": {
        "colab": {
          "base_uri": "https://localhost:8080/"
        },
        "id": "mgfTUd4WS7ru",
        "outputId": "18842dc7-f406-4fcf-876b-58faea1c10e8"
      },
      "execution_count": 41,
      "outputs": [
        {
          "output_type": "execute_result",
          "data": {
            "text/plain": [
              "(6362620, 11)"
            ]
          },
          "metadata": {},
          "execution_count": 41
        }
      ]
    },
    {
      "cell_type": "code",
      "source": [
        "df.dtypes"
      ],
      "metadata": {
        "colab": {
          "base_uri": "https://localhost:8080/"
        },
        "id": "1zv2rh3STJom",
        "outputId": "286e933a-5d68-4685-9161-e71971342a05"
      },
      "execution_count": 42,
      "outputs": [
        {
          "output_type": "execute_result",
          "data": {
            "text/plain": [
              "step                int64\n",
              "type               object\n",
              "amount            float64\n",
              "nameOrig           object\n",
              "oldbalanceOrg     float64\n",
              "newbalanceOrig    float64\n",
              "nameDest           object\n",
              "oldbalanceDest    float64\n",
              "newbalanceDest    float64\n",
              "isFraud             int64\n",
              "isFlaggedFraud      int64\n",
              "dtype: object"
            ]
          },
          "metadata": {},
          "execution_count": 42
        }
      ]
    },
    {
      "cell_type": "code",
      "source": [
        "df.isnull().sum()"
      ],
      "metadata": {
        "colab": {
          "base_uri": "https://localhost:8080/"
        },
        "id": "Obq5aUGwTTsW",
        "outputId": "aab63016-6ee3-404a-bced-720befee2281"
      },
      "execution_count": 43,
      "outputs": [
        {
          "output_type": "execute_result",
          "data": {
            "text/plain": [
              "step              0\n",
              "type              0\n",
              "amount            0\n",
              "nameOrig          0\n",
              "oldbalanceOrg     0\n",
              "newbalanceOrig    0\n",
              "nameDest          0\n",
              "oldbalanceDest    0\n",
              "newbalanceDest    0\n",
              "isFraud           0\n",
              "isFlaggedFraud    0\n",
              "dtype: int64"
            ]
          },
          "metadata": {},
          "execution_count": 43
        }
      ]
    },
    {
      "cell_type": "code",
      "source": [
        "df['isFraud'].value_counts()"
      ],
      "metadata": {
        "colab": {
          "base_uri": "https://localhost:8080/"
        },
        "id": "UKUAzN_nU7QU",
        "outputId": "f89c58ee-a281-4d23-c5d1-0a133b7ba5ac"
      },
      "execution_count": 44,
      "outputs": [
        {
          "output_type": "execute_result",
          "data": {
            "text/plain": [
              "0    6354407\n",
              "1       8213\n",
              "Name: isFraud, dtype: int64"
            ]
          },
          "metadata": {},
          "execution_count": 44
        }
      ]
    },
    {
      "cell_type": "code",
      "source": [
        "df['isFlaggedFraud'].value_counts()"
      ],
      "metadata": {
        "colab": {
          "base_uri": "https://localhost:8080/"
        },
        "id": "CFXgDeieWWNc",
        "outputId": "e9569700-a883-4ef5-eda8-90b8e01d5008"
      },
      "execution_count": 45,
      "outputs": [
        {
          "output_type": "execute_result",
          "data": {
            "text/plain": [
              "0    6362604\n",
              "1         16\n",
              "Name: isFlaggedFraud, dtype: int64"
            ]
          },
          "metadata": {},
          "execution_count": 45
        }
      ]
    },
    {
      "cell_type": "code",
      "source": [
        "df['type'].value_counts()"
      ],
      "metadata": {
        "colab": {
          "base_uri": "https://localhost:8080/"
        },
        "id": "MN-jxe6vWbct",
        "outputId": "4ecf2dda-145b-4625-d654-50f906337a60"
      },
      "execution_count": 46,
      "outputs": [
        {
          "output_type": "execute_result",
          "data": {
            "text/plain": [
              "CASH_OUT    2237500\n",
              "PAYMENT     2151495\n",
              "CASH_IN     1399284\n",
              "TRANSFER     532909\n",
              "DEBIT         41432\n",
              "Name: type, dtype: int64"
            ]
          },
          "metadata": {},
          "execution_count": 46
        }
      ]
    },
    {
      "cell_type": "code",
      "source": [
        "x = df['type'].value_counts()\n",
        "x.plot(kind='bar', figsize = (12,6))\n",
        "plt.legend()\n",
        "plt.title('Types of transactions ')"
      ],
      "metadata": {
        "colab": {
          "base_uri": "https://localhost:8080/",
          "height": 622
        },
        "id": "vtaUhYBiW9k8",
        "outputId": "90ba9a01-2d83-4e67-e23e-f8b62e249c5f"
      },
      "execution_count": 47,
      "outputs": [
        {
          "output_type": "execute_result",
          "data": {
            "text/plain": [
              "Text(0.5, 1.0, 'Types of transactions ')"
            ]
          },
          "metadata": {},
          "execution_count": 47
        },
        {
          "output_type": "display_data",
          "data": {
            "text/plain": [
              "<Figure size 1200x600 with 1 Axes>"
            ],
            "image/png": "[encoded data removed]"
          },
          "metadata": {}
        }
      ]
    },
    {
      "cell_type": "code",
      "source": [
        "p = df['isFraud'].value_counts()\n",
        "p.plot(kind='pie', autopct = '%1.1f%%' , figsize = (12,6))\n",
        "plt.legend()\n",
        "plt.title('Distribution of transactions flagged fraud and not ')"
      ],
      "metadata": {
        "colab": {
          "base_uri": "https://localhost:8080/",
          "height": 538
        },
        "id": "cgenMvsYXOgb",
        "outputId": "82f2f518-8f29-44b2-9009-9956b913cfe1"
      },
      "execution_count": 48,
      "outputs": [
        {
          "output_type": "execute_result",
          "data": {
            "text/plain": [
              "Text(0.5, 1.0, 'Distribution of transactions flagged fraud and not ')"
            ]
          },
          "metadata": {},
          "execution_count": 48
        },
        {
          "output_type": "display_data",
          "data": {
            "text/plain": [
              "<Figure size 1200x600 with 1 Axes>"
            ],
            "image/png": "[encoded data removed]"
          },
          "metadata": {}
        }
      ]
    },
    {
      "cell_type": "code",
      "source": [
        "df.describe"
      ],
      "metadata": {
        "id": "H4uxIR19X0qr",
        "colab": {
          "base_uri": "https://localhost:8080/"
        },
        "outputId": "11ad29b6-1008-4a3f-f2f1-1434f0c1f3b4"
      },
      "execution_count": 49,
      "outputs": [
        {
          "output_type": "execute_result",
          "data": {
            "text/plain": [
              "<bound method NDFrame.describe of          step      type      amount     nameOrig  oldbalanceOrg  \\\n",
              "0           1   PAYMENT     9839.64  C1231006815      170136.00   \n",
              "1           1   PAYMENT     1864.28  C1666544295       21249.00   \n",
              "2           1  TRANSFER      181.00  C1305486145         181.00   \n",
              "3           1  CASH_OUT      181.00   C840083671         181.00   \n",
              "4           1   PAYMENT    11668.14  C2048537720       41554.00   \n",
              "...       ...       ...         ...          ...            ...   \n",
              "6362615   743  CASH_OUT   339682.13   C786484425      339682.13   \n",
              "6362616   743  TRANSFER  6311409.28  C1529008245     6311409.28   \n",
              "6362617   743  CASH_OUT  6311409.28  C1162922333     6311409.28   \n",
              "6362618   743  TRANSFER   850002.52  C1685995037      850002.52   \n",
              "6362619   743  CASH_OUT   850002.52  C1280323807      850002.52   \n",
              "\n",
              "         newbalanceOrig     nameDest  oldbalanceDest  newbalanceDest  isFraud  \\\n",
              "0             160296.36  M1979787155            0.00            0.00        0   \n",
              "1              19384.72  M2044282225            0.00            0.00        0   \n",
              "2                  0.00   C553264065            0.00            0.00        1   \n",
              "3                  0.00    C38997010        21182.00            0.00        1   \n",
              "4              29885.86  M1230701703            0.00            0.00        0   \n",
              "...                 ...          ...             ...             ...      ...   \n",
              "6362615            0.00   C776919290            0.00       339682.13        1   \n",
              "6362616            0.00  C1881841831            0.00            0.00        1   \n",
              "6362617            0.00  C1365125890        68488.84      6379898.11        1   \n",
              "6362618            0.00  C2080388513            0.00            0.00        1   \n",
              "6362619            0.00   C873221189      6510099.11      7360101.63        1   \n",
              "\n",
              "         isFlaggedFraud  \n",
              "0                     0  \n",
              "1                     0  \n",
              "2                     0  \n",
              "3                     0  \n",
              "4                     0  \n",
              "...                 ...  \n",
              "6362615               0  \n",
              "6362616               0  \n",
              "6362617               0  \n",
              "6362618               0  \n",
              "6362619               0  \n",
              "\n",
              "[6362620 rows x 11 columns]>"
            ]
          },
          "metadata": {},
          "execution_count": 49
        }
      ]
    },
    {
      "cell_type": "code",
      "source": [
        "df.loc[df.isFraud == 1].type.unique()"
      ],
      "metadata": {
        "colab": {
          "base_uri": "https://localhost:8080/"
        },
        "id": "AhP9ckpPsPyb",
        "outputId": "0b6a5907-d74e-4f3f-c2b1-62bd6fe659b3"
      },
      "execution_count": 50,
      "outputs": [
        {
          "output_type": "execute_result",
          "data": {
            "text/plain": [
              "array(['TRANSFER', 'CASH_OUT'], dtype=object)"
            ]
          },
          "metadata": {},
          "execution_count": 50
        }
      ]
    },
    {
      "cell_type": "code",
      "source": [
        "import plotly.express as px\n",
        "pay = df.head(5000)\n",
        "fig = px.box(pay, y = \"amount\")\n",
        "fig.show()"
      ],
      "metadata": {
        "colab": {
          "base_uri": "https://localhost:8080/",
          "height": 542
        },
        "id": "BYs-bNQJtBPI",
        "outputId": "f0be8d50-2603-4542-ff90-92255db1f181"
      },
      "execution_count": 51,
      "outputs": [
        {
          "output_type": "display_data",
          "data": {
            "text/html": [
              "<html>\n",
              "<head><meta charset=\"utf-8\" /></head>\n",
              "<body>\n",
              "    <div>            <script src=\"https://cdnjs.cloudflare.com/ajax/libs/mathjax/2.7.5/MathJax.js?config=TeX-AMS-MML_SVG\"></script><script type=\"text/javascript\">if (window.MathJax && window.MathJax.Hub && window.MathJax.Hub.Config) {window.MathJax.Hub.Config({SVG: {font: \"STIX-Web\"}});}</script>                <script type=\"text/javascript\">window.PlotlyConfig = {MathJaxConfig: 'local'};</script>\n",
              "        <script src=\"https://cdn.plot.ly/plotly-2.18.2.min.js\"></script>                <div id=\"5a2ef2ec-2be0-430b-a4f9-c427c6e836eb\" class=\"plotly-graph-div\" style=\"height:525px; width:100%;\"></div>            <script type=\"text/javascript\">                                    window.PLOTLYENV=window.PLOTLYENV || {};                                    if (document.getElementById(\"5a2ef2ec-2be0-430b-a4f9-c427c6e836eb\")) {                    Plotly.newPlot(                        \"5a2ef2ec-2be0-430b-a4f9-c427c6e836eb\",                        [{\"alignmentgroup\":\"True\",\"hovertemplate\":\"amount=%{y}<extra></extra>\",\"legendgroup\":\"\",\"marker\":{\"color\":\"#636efa\"},\"name\":\"\",\"notched\":false,\"offsetgroup\":\"\",\"orientation\":\"v\",\"showlegend\":false,\"x0\":\" \",\"xaxis\":\"x\",\"y\":[9839.64,1864.28,181.0,181.0,11668.14,7817.71,7107.77,7861.64,4024.36,5337.77,9644.94,3099.97,2560.74,11633.76,4098.78,229133.94,1563.82,1157.86,671.64,215310.3,1373.43,9302.79,1065.41,3876.41,311685.89,6061.13,9478.39,8009.09,8901.99,9920.52,3448.92,4206.84,5885.56,5307.88,5031.22,24213.67,8603.42,2791.42,7413.54,3295.19,1684.81,5758.59,110414.71,7823.46,5086.48,5281.48,13875.98,56953.9,5346.89,2204.04,2641.47,23261.3,2330.64,1614.64,9164.71,2970.97,38.66,2252.44,62610.8,5529.13,82940.31,4510.22,8727.74,2599.46,4874.49,6440.78,4910.14,6444.64,5149.66,7292.16,47458.86,136872.92,94253.33,2998.04,3454.08,4316.2,2131.84,12986.61,42712.39,77957.68,17231.46,78766.03,224606.64,125872.53,379856.23,1505626.01,554026.99,147543.1,761507.39,1429051.47,358831.92,367768.4,209711.11,583848.46,1724887.05,710544.77,581294.26,11996.58,2875.1,8586.98,871.75,1035.36,1063.53,1019.9,4059.38,1876.44,28404.6,75405.1,50101.88,14121.82,78292.91,176149.9,212228.35,85423.63,11648.5,6165.58,3705.83,419801.4,335416.51,3372.29,661.43,864.68,1203.44,330757.04,1915.43,8.73,3058.8,5154.97,5213.25,5392.75,25.12,17150.89,679502.24,177652.91,5443.26,244.87,8281.57,1175.59,1097.74,184986.8,1718.29,3671.32,3580.26,8550.9,9753.55,3026.98,467177.03,3875.99,2148.89,466.97,154139.72,82685.93,83857.23,99109.77,187726.67,281339.92,186447.51,81029.86,139054.95,154716.2,53631.83,289645.52,267148.82,47913.58,193605.38,344464.4,169409.87,25793.74,114712.48,89038.75,1341.58,44443.08,34729.64,105979.34,57794.61,15918.79,19162.08,220691.42,9536.54,29784.06,190445.51,57279.11,112086.81,80311.89,151829.91,26004.52,3146.16,296752.75,191702.06,365510.05,202332.08,55105.9,171508.59,178439.26,88834.86,210370.09,36437.06,82691.56,338767.1,187728.59,271002.7,323105.08,10782.94,89962.11,101940.14,163100.34,136030.66,68912.23,73464.06,106117.28,503333.79,71991.42,91379.93,26759.05,128487.35,252908.87,64489.64,171369.73,4493.29,12121.5,2278.19,7707.44,4013.02,5775.15,4843.93,2397.82,4391.44,4497.87,7452.89,3930.81,71532.24,61159.51,12401.9,32702.61,6926.67,893.57,480222.51,3608.41,5946.79,6099.96,372.34,4635.18,1267.97,6911.99,1795.67,3199.06,10265.17,9029.12,7600.57,2057.71,3823.08,2806.0,2806.0,6737.2,9161.98,1239.06,365.0,5237.54,2618.76,339.82,1393.46,2731.37,8364.73,6598.71,4304.58,2867.14,2946.38,507.12,3020.86,8948.03,280877.92,1084.9,9456.69,5812.36,157883.07,2734.77,102153.86,584.52,6113.14,369989.2,215338.28,65521.42,116977.58,262392.36,51121.05,202624.59,118235.16,118056.71,498960.91,691738.36,58820.08,4419.04,4270.02,3007.83,1824.59,993.46,302693.14,1445.06,4059.25,3417.18,3428.95,5580.98,3455.85,7265.63,3852.64,7870.29,12872.92,6675.34,410201.89,13310.78,664.35,2130.3,7771.4,36349.35,749.34,2340.34,9686.85,15785.85,9006.78,9014.95,14420.66,4802.31,28527.44,4182.93,4088.21,8491.9,6666.78,6536.86,40684.97,1553.21,7344.92,106267.21,5491.5,3666.42,5507.18,4565.14,11348.71,123179.97,7073.6,2803.83,106.81,6297.71,2610.01,5320.1,1460.63,522264.81,3584.21,3704.97,2773.61,3896.42,18781.84,6660.33,26923.42,53783.57,80333.28,211075.91,100677.86,473499.51,1538200.39,2421578.09,1349670.68,314403.14,1457213.54,180368.84,445038.71,1123206.66,996.0,176334.26,161217.61,108443.61,75442.68,55536.86,438437.09,928722.69,1478772.04,2545478.01,2061082.82,983479.66,635507.97,848231.57,739112.93,324397.94,982862.81,955855.0,179253.24,5446.88,648.64,8494.71,373068.26,143236.26,228451.89,35902.49,232953.64,65912.95,193492.68,60836.64,62325.15,349640.51,135324.19,380015.14,418688.27,311023.52,151862.38,228710.05,220431.09,182861.45,231881.5,38071.17,87117.29,114271.72,73199.1,764772.98,106847.36,6287.28,24936.34,55837.16,63255.29,104605.78,154160.82,257348.03,201073.81,53560.68,334234.39,227335.16,134426.08,2643.45,134977.11,25090.03,147388.67,217615.09,355294.5,12336.48,349505.89,285185.34,132953.45,214851.41,54988.56,62871.06,61150.85,131409.27,10844.33,2054.84,313373.56,13289.87,27070.11,127954.7,197031.04,144366.64,7965.49,123103.74,106634.77,74933.22,120234.99,5763.99,156922.36,162665.98,110226.34,142577.44,6915.38,157108.01,223555.14,146331.12,141131.23,222711.47,84980.31,628719.07,79285.8,57809.81,75043.17,248196.92,18851.44,403418.39,235564.81,32325.24,345347.7,355500.25,103005.78,108803.98,259753.27,234094.24,273305.73,186838.95,193161.04,152823.85,91457.82,277807.48,8679.13,2099.59,221693.08,206097.65,22384.21,73210.99,236747.6,6284.18,100198.77,160347.32,289272.75,63189.26,196725.32,5882.32,625.92,5937.72,9796.29,13449.95,4749.6,6460.86,3605.26,624.61,3854.92,420532.33,4402.86,147804.02,151.2,58.21,5936.82,145944.67,7206.33,5581.55,5853.21,2528.1,5655.17,1456.09,4252.82,276460.62,8811.67,12666.68,95636.49,195314.34,6049.09,14306.8,1117.34,3179.7,2880.68,3060.54,879.42,3486.78,21530.96,2426.31,5110.1,207.75,18437.04,8690.69,4946.03,5432.09,7649.41,3943.17,3101.33,51719.13,13465.91,19561.05,9762.28,9778.81,562903.81,5055.94,2858.89,8531.42,84.22,227478.01,5033.02,100588.8,9374.72,598.24,4531.55,2998.2,9269.99,1209.64,1298.7,7797.0,5831.03,7067.9,14895.51,3316.21,22276.0,16505.51,636.95,2056.59,704.74,3222.32,11889.61,9491.89,6131.21,11938.61,4233.45,32643.79,622.15,4573.12,6057.8,5770.32,9152.97,12154.7,8378.01,9616.45,2231.28,4932.54,65413.89,98560.08,15054.61,161632.16,47529.19,9577.45,414238.59,89327.65,194900.16,24470.43,217668.38,9067.51,336827.91,45317.95,230021.01,154578.28,314134.01,206405.92,158995.29,188238.54,21255.8,205955.77,178370.36,42547.96,15152.15,39249.67,101669.17,81694.11,10266.7,35502.25,183250.0,219220.21,254895.5,143148.97,132457.52,148834.28,106727.81,223123.71,194311.34,338964.91,247575.4,29467.02,90340.16,198847.32,155075.41,76932.89,92971.79,7322.98,222126.95,62983.91,1271.77,246816.65,21898.97,30811.56,100275.09,46630.53,158775.58,90556.08,173948.89,66216.71,216133.99,371883.82,770537.37,71275.47,336298.77,317393.38,181002.01,311449.38,270824.42,1449.03,3551.48,227768.63,172986.7,4940.2,2755.96,8807.01,3111.86,10040.52,5363.0,11990.19,266.88,1928.55,10648.06,962.43,8348.1,6969.67,20128.0,20128.0,154.87,4040.84,6490.17,1101.09,4347.78,213922.13,83859.59,33269.25,51749.94,86410.3,10856.63,161613.93,244361.81,596617.87,108600.78,377520.94,60758.42,86204.31,1234.0,18288.91,248979.22,126774.5,38428.19,109732.52,17851.54,5223.97,63807.17,406297.68,4779.93,16631.14,2771.16,3154.06,7813.63,360.13,431381.17,43670.84,7342.63,7417.09,8865.26,213490.87,7444.4,287265.38,416001.33,6432.26,8690.86,3791.28,4111.34,7163.9,6557.51,17348.25,1586.28,6811.97,36651.07,4804.68,19375.5,13833.75,21008.52,22043.92,32635.14,11438.39,13527.16,11881.78,9805.46,9470.85,20560.86,13679.84,15448.0,1987.4,4145.04,3511.45,1118.1,15.06,352568.35,3043.27,9758.09,5924.89,9550.43,4355.66,6973.12,2358.63,374.36,8946.63,20573.4,8358.12,1006.76,10498.05,463722.76,138857.19,5184.9,3626.96,282.42,8703.54,3673.1,9800.58,88987.11,4227.19,2881.51,4376.46,11656.12,345698.98,3292.21,7367.06,2937.34,1150.14,3563.36,2380.46,2266.02,32132.45,51627.39,62073.54,13614.91,2290.73,637161.0,639378.37,34390.85,1867849.02,1193410.46,348186.2,1440296.14,799483.57,969631.31,483544.3,326349.91,7546.88,2469.75,1741.24,553.25,6606.31,2075.94,84212.94,312108.51,1647.93,3533.32,7659.86,7203.07,116206.75,30331.38,2063.77,3035.35,123797.1,8233.25,2271.34,3801.74,1530.83,4833.96,5842.61,2871.89,5297.36,621561.65,829.07,3418.07,41924.75,173597.57,77642.84,144964.23,94038.9,26051.33,134143.27,497424.19,607616.73,681093.57,114057.61,205279.62,173512.93,166817.98,113283.13,179030.05,94332.0,141111.15,45756.23,6039.61,46261.02,312471.16,195490.04,107308.84,48252.82,25674.03,63830.49,96178.8,155122.86,171757.76,8809.04,27320.2,517915.91,34629.16,94296.25,285360.06,161445.91,386683.04,169854.57,126167.7,152757.58,49661.18,73513.5,166335.32,234268.82,306280.12,194620.68,128278.74,256773.54,105759.12,59390.46,131991.26,65025.3,82054.36,69708.79,9104.26,92553.64,66312.08,142282.63,114499.14,76635.24,132574.0,39485.21,236825.42,327066.19,156819.6,13136.44,4306.89,8309.52,5363.35,132.42,19644.08,895.24,7641.08,31188.22,13954.75,10497.33,5843.75,7260.2,10285.86,6249.78,848.74,6993.7,795.29,9191.46,132038.41,6495.27,1679.68,47477.97,1260.62,15034.23,3238.39,251241.14,3644.12,283123.48,2851.83,94726.64,17020.69,6523.19,1383.56,1580.66,2466.95,1017.85,2270.41,102265.88,13758.63,5221.77,12256.66,8227.3,527.15,950.25,12728.46,1002.96,6917.1,1977.17,9314.84,1157.05,3766.99,3464.41,68662.06,8679.29,15266.05,8348.75,8419.73,6688.74,1979.94,9574.31,5287.68,10627.18,5809.78,411363.54,4086.5,19741.22,5270.72,55827.09,174068.82,1277212.77,1277212.77,24105.5,6854.06,111899.09,1231.79,3380.1,2869.65,1658.87,823.36,7541.47,3635.93,1328.59,56145.85,973.18,619.24,300.41,700967.19,8354.27,5423.28,708.59,8358.81,2245.62,4593.59,399.66,1617.9,2167.26,9738.95,3396.25,6780.78,2284.54,502.61,8716.47,209370.56,117023.79,10891.96,4149.86,13252.81,1213.64,5800.85,8094.53,3825.39,12162.01,472385.25,13427.34,1873.13,6443.58,4008.01,197186.52,1220.37,1683.95,2713.67,4867.56,242940.23,4433.98,2168.8,10059.7,8092.1,11770.54,1576.78,320.53,3390.74,2736.35,6029.92,7506.65,12621.09,1582.67,881.26,4651.67,8074.16,4337.08,429.42,7645.96,221654.28,10932.41,4518.42,1616.52,3545.37,159334.62,334262.17,5403.87,13288.84,7079.24,4451.95,25554.79,6757.51,2756.3,4163.82,5416.8,8356.44,7257.7,5570.5,9181.99,663.34,1532.35,1180.55,7950.29,5334.81,760.21,1697.56,112.56,13373.96,6606.47,208501.33,1045.63,363482.02,2935.86,88626.65,540789.56,10430.39,4279.07,3537.25,66225.76,964.77,12178.51,310157.55,2272.54,6078.56,4108.8,2671.31,12426.38,17373.04,7272.63,6548.43,2644.63,6776.93,1810.41,2586.39,47564.74,5485.04,2644.54,9361.47,1193.24,9549.7,593.4,1122.14,264361.19,8148.08,8264.22,3393.22,2392.53,5324.43,160700.51,8901.32,9864.23,8791.02,35063.63,35063.63,1066.04,5430.64,161796.96,107292.25,6488.6,1617.97,427175.03,6765.12,3269.72,9499.4,865.77,151096.79,4244.4,885.9,4322.17,7664.12,3644.85,12462.9,3014.54,5880.33,14025.72,12187.88,10777.89,708.82,5633.3,2223.41,2195.63,1668.11,281425.06,18561.23,39069.42,63186.93,419757.69,127920.4,11136.72,33782.98,3776389.09,1127058.69,112401.53,668237.36,789419.02,569068.84,682894.68,443116.03,3942.44,539430.95,598782.65,600581.61,221297.05,249592.99,5170.23,8553.73,9980.32,11982.62,2763.95,265763.02,2364.01,1432.47,233.76,13259.12,2364.34,3903.48,301298.69,6623.21,1009.43,1639.33,2033.14,45864.43,11411.34,23.31,613.83,7154.46,1091.54,3193.99,1849.56,4170.82,4099.91,5923.01,208376.61,131033.44,223848.92,68332.36,205368.78,424141.36,373185.07,2258388.15,250968.18,19772.53,43023.82,1628887.72,755499.13,289203.45,902485.36,351854.11,605790.2,353312.93,855931.4,699928.86,5886.25,200774.62,1088.94,3500.0,109552.96,59531.87,133637.07,75752.73,100362.16,191177.92,435589.96,1950.77,2223005.62,902505.61,1201716.66,494972.01,1417001.19,3445.96,2650.82,2073.2,319825.94,129431.13,105351.94,38167.0,4682.74,1280.14,3039.84,5998.0,4273.0,3637.13,892.53,10707.6,6380.75,271161.74,274108.4,2676.97,7512.61,8612.28,413.4,6794.39,9247.18,2821.51,378703.81,9818.95,13268.46,378896.52,65671.39,35492.2,18510.43,83587.86,62455.76,44708.03,343189.13,60215.46,235288.68,206955.99,383446.61,145095.94,300632.87,119081.76,203148.34,104335.07,251482.63,92784.06,21670.38,175443.85,226031.29,234052.7,229848.96,111655.85,51284.87,270.78,154442.99,34918.59,57262.72,189703.56,288838.13,61505.91,404167.6,57323.56,68988.21,74230.21,377287.8,185897.79,173842.23,31646.31,48134.99,229982.47,216806.48,117257.18,174413.77,72897.92,82564.24,63764.9,183074.81,223744.8,46179.38,91611.03,128022.19,157949.72,26516.56,105647.45,61858.19,245041.35,42922.81,137465.55,170207.14,18513.77,199318.34,26295.3,111549.83,56912.01,414285.51,298109.36,269736.99,18622.16,183816.31,143405.8,449.97,2743.55,1548.73,4828.43,1737.12,1089.31,5237.7,3364.48,1889.41,2685.44,1238.08,17994.24,6396.49,2380.21,139754.72,8787.63,2261.24,2807.73,4247.14,4504.48,3051.76,5675.84,194.4,8176.58,4074.17,13695.83,8092.22,286803.5,3620.25,153952.87,1335.03,96.32,412906.88,288638.46,2918.83,4852.65,13343.47,1672.55,1020.89,4440.79,12271.39,379953.15,9198.49,660.52,3485.64,413.84,3865.44,124832.65,302151.25,1854.51,2850.6,130905.88,8782.48,254286.27,10239.16,7276.69,4993.81,8531.44,4297.27,7287.73,5375.2,3830.45,70543.76,3558.79,6891.56,2875.66,4632.68,13693.11,81222.77,2801.1,273951.34,490341.11,226.29,204691.97,3399.54,261.95,1815.83,10287.6,2633.08,8818.07,271.77,7017.21,16709.74,2020.04,3601.28,6027.22,7886.77,421520.68,2444.49,2786.6,2186.58,265803.38,12363.37,3014.72,9533.48,139555.44,13525.15,5134.7,4881.15,130470.14,722161.86,5085.47,4617.63,3941.6,1471.39,5480.96,1834.74,365914.64,16472.92,31922.09,6450.56,315325.25,2869.11,2738.86,60503.37,450.55,8161.64,40149.38,5829.39,9119.89,3854.39,1053.13,7296.95,9114.34,18625.28,2134.11,3743.03,17457.7,1098.78,1393.49,3466.83,12960.72,3383.61,3285.68,4898.07,9642.19,1919.77,21820.68,18187.81,23069.76,6820.53,2635.06,5371.1,358124.44,2645.88,5454.05,2691.57,3269.57,3623.4,102.37,5601.3,151768.14,2725.19,1534.54,402.54,12617.81,3631.87,333946.96,7648.78,11679.19,272.8,1380.95,29587.32,1056.64,2515.46,6077.94,8648.45,5264.43,3821.75,4920.42,5635.6,11508.76,2147.21,8380.77,3850.6,5238.73,6173.13,1196.9,150.07,624.1,1012.86,3688.28,26112.94,286590.92,5430.53,13840.98,11479.22,119570.96,818.99,2736.66,6166.35,4052.14,6730.59,259096.62,21502.38,1810.88,700.86,7273.9,4845.31,1153.98,1624.03,8076.53,1313.6,6128.41,11301.82,4508.96,2588.24,909.33,7123.18,4449.8,663.34,4043.76,15350.84,11917.23,14145.51,28301.88,6976.97,19572.25,17389.94,12123.91,20007.91,18389.77,5947.8,804.16,14711.9,2407.47,2074.51,5711.01,21897.3,5462.01,2185.54,5655.43,727.94,7868.9,4029.56,2637.07,3129.06,6899.83,38366.56,6778.32,96015.94,2304.2,5575.09,1667.88,24659.46,221557.88,1117.17,7731.23,69490.69,5437.85,3984.3,5630.13,3399.78,7883.75,635.55,2248.26,9261.94,9614.73,30308.45,1012.84,6534.05,9460.66,2552.79,5912.4,8009.83,8625.97,244964.08,5663.87,1892.34,561.01,3218.06,9731.47,4018.12,6376.99,5983.88,280.59,5263.67,176370.68,62783.13,90956.1,120556.62,475857.13,239510.08,50938.65,288438.0,10349.31,7672.12,1203.13,1635.86,5072.52,3176.52,2891.7,1557.98,19316.5,8212.99,5284.56,16265.77,14054.64,11334.96,12445.65,42.0,10685.2,5778.99,7366.3,10810.73,5935.34,8539.76,1703.38,7566.04,186.33,10425.95,4764.33,9632.45,1573.42,9125.93,119352.09,221452.04,354832.51,3677.29,16749.98,10142.56,182385.22,4448.53,58408.09,141.87,793.64,98247.27,7315.54,3599.77,6831.38,2419.45,94740.26,6577.3,12429.59,6522.37,12762.36,11287.39,10884.19,1592.5,15751.26,351.26,3734.21,8403.66,9945.01,12491.01,7889.84,5169.09,13496.51,3548.72,9273.52,4522.66,997.34,3041.43,698.41,7269.74,8329.3,2312.71,7550.29,17396.31,3876.42,3835.42,18792.11,27.55,218753.79,42963.87,92184.04,669936.4,43198.52,171683.57,34784.78,521419.58,209859.04,61650.32,235362.23,327686.42,348463.93,137209.38,279846.24,159270.52,19872.97,203283.36,37475.31,151764.65,72311.62,198443.49,532111.14,839300.36,11436.9,37554.62,33499.16,283308.0,147844.59,65525.9,10844.67,455440.65,135327.21,211094.41,189595.83,66413.56,4552.47,1285.04,7627.89,846.91,206336.47,689.85,9837.13,9463.48,6456.26,96833.52,1146.72,13812.23,332573.12,13812.46,6159.72,11711.1,5881.78,1461.06,4242.85,2724.24,2344.79,8525.08,15640.06,1533.55,3256.43,4591.98,5567.55,4213.36,3970.45,4497.03,301706.01,3065.41,229316.19,1898.84,652.67,1795.14,5088.99,9305.93,498178.68,1897.66,1033.44,1252.27,4911.89,9755.38,300932.58,47940.14,118365.47,16626.81,96757.4,297448.33,287509.05,1212719.61,210650.2,1636507.63,651387.84,548288.31,2107293.71,1918461.7,291753.7,556542.19,588.33,3559.49,2488.09,353.9,8440.86,9160.94,11063.08,18392.23,2357.63,5157.05,5746.44,5607.36,6360.79,67200.07,2453.34,79.26,3758.16,24495.45,1284.49,3283.87,42136.28,27008.84,331545.25,42529.28,252129.73,473469.94,2317408.88,864389.49,276094.92,132355.33,169106.97,2604219.11,249740.75,7977.96,7848.22,7625.73,3499.43,642.26,41295.56,13576.03,29572.74,53569.21,139247.62,60360.45,161795.9,607537.17,254399.35,427823.47,16662.21,173570.67,54684.17,87963.9,565349.9,94527.39,315552.62,48169.69,118753.07,106705.8,328967.35,55855.58,370751.08,49177.38,63557.19,33663.22,20986.8,301680.88,9320.15,241488.05,60850.8,476934.35,598674.03,135357.16,422125.99,57643.24,11261.67,416106.78,4447.55,25071.46,25071.46,3239.95,10286.48,2011.81,9520.02,4273.56,26844.84,634.41,58516.68,5077.6,4471.34,6525.58,12749.19,7652.07,450465.15,17540.66,2673.64,4215.08,3468.74,244.09,137.88,7155.31,2432.88,9021.44,4476.2,14546.65,272709.33,7669.42,14750.26,107421.26,36448.64,12939.66,198137.4,112193.65,40030.78,207283.84,141648.13,361980.67,614317.64,233255.73,1420.96,132842.64,4881.52,14403.17,4843.76,7143.2,2279.65,2571.49,2873.37,7394.33,21902.51,1730.16,11491.76,14204.94,14432.6,2501.21,27845.63,900.37,28147.47,3782.98,4828.64,6540.9,21840.26,5805.93,5018.24,1066.91,1902.02,1982.04,7020.05,11488.23,1253.6,10183.1,146534.96,5616.1,5272.81,236343.99,86401.93,3923.32,289326.88,4444.35,5323.28,2141.82,328.07,1439.72,4416.74,84051.0,1246.74,1527.08,38829.9,749.26,2560.3,383736.31,917.38,6905.9,3611.72,8949.54,2193.94,9479.66,10757.7,6259.18,7003.44,6872.19,911.27,7694.63,11353.99,6683.73,4261.17,6146.81,4479.63,144659.77,53094.17,43721.1,119537.32,33349.84,335979.26,183842.53,286737.98,472609.82,271982.1,154611.64,125275.0,443200.31,256481.43,236277.01,7071.77,6511.48,8592.89,2356.99,287126.39,7363.65,4613.1,3787.43,10543.05,10719.85,3857.29,7028.85,2402.16,3375.94,8999.94,2562.66,8480.48,9471.15,2569.57,4470.38,1068.22,1128.69,3488.78,6086.87,688.53,2778.17,5078.54,5610.36,5202.26,5785.77,7299.46,47440.86,7538.0,4372.05,748.42,1296.58,2545.15,2527.41,8361.63,216007.53,2092.06,3920.09,2224.06,5284.22,1632.21,5965.13,56565.27,5130.16,10364.62,577.01,9420.9,3735.16,982.67,9469.26,32282.57,2673.65,12911.82,9334.02,3783.07,7102.49,4804.74,291713.22,2358.9,461.65,4457.72,633.75,7891.16,1522.55,3660.66,44670.27,64945.57,4461.08,3223.87,3224.21,79386.85,7415.77,6.42,1559.66,2548.85,271.32,1454.92,2666.96,3180.02,2550.35,842.33,16085.74,4223.24,1993.24,457552.45,4894.96,7331.22,7286.11,6258.29,16859.52,4416.9,4139.95,25642.6,6394.36,53.35,1902.1,5568.56,406.11,15028.75,32101.86,6473.96,7577.43,20135.64,18832.61,11468.9,138647.54,3870.28,4627.42,2517.79,100939.43,3455.98,1068.45,454.51,302665.03,885.95,4137.89,5504.59,3780.15,3504.75,2716.67,4219.94,5831.05,9855.36,10726.49,1833.22,34115.82,2210.66,22190.99,168451.53,123545.77,28463.91,42012.45,170686.08,283561.25,215742.75,56869.53,13553.79,192461.6,357220.77,32726.88,28212.4,360997.83,141632.37,332359.2,78423.86,131011.3,215798.0,65236.81,65934.11,336237.38,293530.31,551607.7,80448.13,58447.8,36860.96,99295.78,49031.62,134469.08,265098.67,65591.87,266803.57,616461.19,80487.01,46442.24,50137.65,474447.95,70139.43,201342.13,28625.92,125492.59,82550.39,114275.55,43906.79,131250.53,4865.48,283711.39,8921.26,91721.95,94096.34,157964.89,51311.41,46757.44,15069.79,783.31,25927.54,42672.03,49236.53,16236.25,276772.02,95956.43,632840.5,863.08,4058.66,12040.95,4685.16,218499.73,107440.87,5055.39,7846.95,4412.45,14736.92,17488.56,264.93,222321.36,8972.41,4079.37,6226.79,6490.69,7837.56,4348.75,46961.7,373610.77,90667.11,114580.22,4448.09,549884.88,3697.53,6350.75,3154.47,23430.56,5875.05,2261.94,219630.79,10021.49,2349.71,512866.85,4280.41,471.01,1939.39,2399.75,156232.74,930.99,331.4,11607.88,3603.99,159657.1,68051.17,2607.6,345858.07,6990.18,11020.46,194415.49,7434.58,6111.1,7991.07,299976.78,78772.04,85584.66,187256.62,629989.76,29025.9,27948.65,91223.06,62684.91,355252.74,374419.58,71151.31,66358.89,346761.87,291839.31,285578.26,398354.37,112637.63,162591.2,193448.55,334092.55,90380.34,160053.19,286279.93,3879.16,158483.1,240680.1,42198.41,280403.82,421555.71,150550.59,83153.23,269603.45,188071.25,263590.95,373152.4,121854.66,31657.28,428248.35,323406.83,258938.11,226945.73,171505.17,184547.7,155608.53,69865.39,44655.46,411935.8,552812.46,84022.18,57357.33,286.87,11068.42,3524.08,11430.86,6769.91,8271.42,452.57,235238.66,235238.66,2707.76,200612.49,4253.87,3619.35,22940.17,5376.67,6822.41,9855.76,186.22,4189.31,26784.93,4623.81,2765.61,1637.53,2893.12,8246.79,24174.02,5340.28,2369.48,3009.63,32535.91,5230.88,163.72,2388.85,6980.56,153596.45,436.15,1928.87,884.42,2655.04,4528.17,36010.9,183465.11,57716.15,4074.2,601898.44,4601.56,2286.28,10855.04,7590.6,4887.09,637.26,149617.83,108019.99,5509.5,83845.22,7059.05,462688.96,75915.44,383533.35,2270.53,952.08,7855.62,347391.16,10255.93,10729.47,2288.61,5674.62,4546.83,23235.78,3697.26,1215.86,4377.04,5899.63,12128.78,10972.97,14157.15,22941.92,14223.81,62820.46,6001.21,12273.24,594.09,145515.24,6598.82,15326.3,6705.75,11608.18,6848.97,1130.44,2279.92,6913.46,3837.3,2589.19,2388.2,2232.83,93413.63,2221.22,214202.66,2387.09,10493.4,6433.58,136564.27,9800.44,6983.76,1994.48,2064.34,10808.31,10019.06,6650.0,9591.5,9769.9,727.25,6221.43,1361.29,4594.28,12122.55,93459.27,1937.5,2421.15,2840.25,279422.78,3215.74,13890.24,8371.5,5954.9,9370.51,9496.55,3004.57,4351.58,4674.0,2518.13,6365.0,26035.82,12000.58,5717.58,15646.06,4905.54,7029.12,2374.49,6579.9,2481.59,6720.15,6426.8,5274.17,2475.77,4149.27,11380.13,119542.86,25424.36,289715.28,3149.19,18952.73,2983.5,13.54,6159.35,4209.57,6.93,7055.84,1058.63,95983.62,5973.9,6397.18,3076.45,197761.38,100740.53,14166.38,134543.6,48206.82,282944.06,19270.14,5493.19,5983.51,2388.24,6381.32,9899.52,2368.4,5764.6,3236.86,4209.87,11388.1,124041.53,12061.28,1072.36,189476.67,8054.62,457194.09,219583.95,6015.17,6748.38,271566.78,190398.63,149651.68,84527.66,1030100.15,55091.05,318209.62,294676.6,294304.91,168276.37,38583.71,2338.05,276273.67,10928.31,11335.23,924.07,7677.95,132540.87,170914.25,17487.62,230892.79,734657.1,452932.69,70299.66,245679.75,300768.79,90697.75,130280.74,72984.81,336230.03,75162.99,147987.48,76305.39,18194.34,68931.2,231460.09,156316.71,232720.95,18536.86,89380.43,568912.68,3351.14,4564.51,3050.39,942.95,121.27,3798.36,2246.11,1217.83,1285.77,25767.46,6054.6,1816.52,5171.22,1566.11,7014.89,3858.3,27018.5,2879.51,18975.26,3056.61,798.26,2807.18,2746.12,5256.18,2153.73,4378.75,16910.42,4195.41,247199.96,2505.99,5986.18,6794.37,5029.67,4489.66,5193.39,4188.03,4975.75,91424.21,1780.48,2211.92,9245.27,9467.87,519973.96,7071.42,166808.69,7852.4,4453.49,1880.05,8607.73,5111.72,232.74,8326.13,10169.55,4655.03,2732.73,6948.21,92236.11,104267.94,176127.45,94087.34,172867.65,277611.59,1755646.72,2441078.3,1147953.82,395709.23,168001.93,2032275.62,44944.32,957339.52,459709.79,637758.38,525.22,3847.27,14126.82,5478.51,194351.55,1039.62,230943.69,6904.63,3065.84,5641.56,3422.04,1380.16,681.05,2064.02,12605.06,8923.42,7761.72,2274.37,10273.19,2673.52,6022.64,891.93,5055.22,5726.49,3738.25,3608.34,4050.19,8146.24,830.96,6292.23,969.76,9492.53,2565.39,2050.83,7199.26,5843.74,127143.23,276138.13,265.8,2211.53,5298.21,3904.44,3679.37,432168.02,8001.69,1361.26,3638.87,54152.03,22765.47,133621.41,215511.92,205612.49,113486.72,38883.63,242679.64,17791.71,248307.1,911.76,203301.58,457363.51,126950.91,34638.53,152873.19,27363.26,184263.87,178912.5,37590.03,172844.87,131027.05,44873.56,405429.47,44809.72,1076.27,61546.97,135665.1,36040.39,33692.43,312061.25,160565.0,226580.84,71176.26,223565.38,208664.25,425986.84,100127.4,95564.34,484.57,113287.66,92398.49,198303.64,126873.28,12229.75,20490.81,86419.78,122464.68,18598.96,287126.8,8261.33,301755.98,121723.0,110654.09,23795.08,130638.93,314025.37,90540.93,109718.72,61515.99,43478.09,4541.85,525.89,353.62,6257.76,1826.81,7709.2,3023.16,3708.43,8702.16,1552.48,5427.59,5179.7,292.45,4424.09,13400.4,10967.1,16171.2,171039.04,1876.99,8053.59,458.45,3167.07,6550.89,191.73,14287.64,3849.14,9006.17,2876.88,1128.88,4089.67,3021.67,5061.75,7807.42,10684.01,6328.21,6125.72,186660.82,168258.14,142236.29,29488.46,452478.54,206432.17,88447.92,68513.25,147141.81,208973.73,202758.62,305762.25,238861.93,156534.89,255232.66,564827.72,297037.63,129909.22,209929.52,9023.2,20000.32,172485.68,260880.32,398355.98,131637.92,52309.48,46615.49,174213.34,98104.83,67666.92,177577.58,308322.0,121479.85,320217.01,28247.25,83247.74,64978.38,278703.6,158226.9,284839.92,137964.43,160690.6,72644.99,151228.18,29929.77,30070.91,209159.54,109768.65,216556.93,85917.73,208366.03,36251.27,149683.03,56238.58,105173.53,32852.19,22096.38,3840.87,53763.65,3604.2,106141.92,82616.3,149935.68,13126.23,2507.52,3718.7,4343.55,157.91,55898.94,3838.0,2038.61,52054.69,61.68,10553.58,9034.36,1332.91,13832.09,29.26,26596.11,5179.74,1470.16,11760.28,4733.94,6466.5,7677.73,147176.03,309.33,819.45,8892.44,311.38,222108.22,4485.32,4241.78,9723.57,38473.99,24445.19,2976.86,15774.38,4723.65,3452.17,21501.47,3562.21,311.28,6190.73,380.02,65971.82,9971.14,4700.07,349.63,5581.28,2290.11,12165.21,1383.91,106622.7,634.95,6013.05,15186.43,2307.17,9541.85,5206.23,5260.41,9105.32,4918.9,14349.18,16947.34,10211.96,3073.34,17453.51,514.74,12039.23,6019.63,4478.67,6614.92,8181.09,140396.66,425.31,2830.73,7449.2,11528.22,162.17,1019.87,7832.2,4151.85,18763.84,4691.54,18062.09,48899.07,9371.85,56432.77,7303.17,677.53,5560.25,216179.58,62802.61,351633.67,696979.11,44137.21,31898.13,139524.98,23895.37,107547.52,24889.66,262535.15,286710.32,241906.13,227500.21,353902.72,138805.3,126516.27,121752.39,214226.11,140691.04,42646.67,218881.33,200373.08,79079.01,36775.45,49512.11,170063.55,88510.71,116197.94,193954.94,94841.38,275712.54,38978.32,63116.69,28652.4,391970.1,157570.4,152991.7,252555.37,143669.66,77711.94,81687.69,211454.31,70396.7,87551.31,70060.61,119084.3,63590.82,124919.54,481106.85,54664.96,56316.65,9638.88,79346.19,54168.83,93187.96,139740.04,132890.64,31876.77,212291.34,103835.15,67997.07,123950.2,313452.48,168681.06,160370.33,10324.3,24953.83,7257.37,101226.51,3382.36,6459.82,2678.1,365254.36,10625.49,5230.89,31958.09,2449.65,6723.8,1327.37,11000.73,1576.82,14229.35,2280.09,108157.51,10909.31,3236.42,2153.63,15803.6,2040.71,10693.28,13651.49,5954.41,3493.65,7699.52,1612.26,3000.33,5898.58,6490.35,2388.04,5398.19,7201.74,12882.91,71045.05,5769.55,9633.82,7094.53,12710.27,15630.0,906.96,626.6,150.35,16811.1,9707.6,3882.8,8545.5,6373.61,9255.25,36361.34,68968.25,8760.71,18672.02,93793.88,51630.01,30095.32,214983.83,295143.53,454775.22,341122.21,5352.59,3847.78,925.63,8024.95,11378.85,10994.82,3414.39,1958.03,312856.0,1563.69,580.51,1156.11,3462.64,1666.17,94658.15,68588.88,132382.57,148688.71,1860.2,10819.89,3535.73,2739.8,7611.48,5567.54,1946.14,1413.15,36622.73,5222.53,4153.3,16473.03,1863.03,20461.89,7676.41,2531.09,6183.46,20442.39,8596.25,9657.66,1096187.24,1096187.24,9914.5,7182.0,22228.5,117.32,1225.92,2986.97,1890.03,108659.34,5966.29,7810.47,2307.78,97601.12,48183.1,96785.24,256481.7,37493.87,58981.28,293358.03,108702.86,210833.38,106336.36,163717.43,280267.65,381479.99,194008.39,178805.23,385.23,14925.71,5919.22,11689.02,6330.85,6604.34,10625.75,74935.58,3817.82,69734.12,10534.49,4486.69,8757.09,1654.94,1330.7,778.6,278.57,3239.79,2065.59,1885.53,235419.91,141982.52,3427.04,9687.92,772.01,898.0,4090.83,3319.89,16734.5,10720.07,12786.76,71579.52,203330.05,486.97,101485.5,57908.35,87732.74,185611.95,89412.56,158406.66,358456.99,245091.49,115800.39,128357.05,256624.13,63057.49,330334.44,279843.2,6473.31,10399.14,3580.23,6531.24,14462.98,3489.41,5822.2,2768.58,11559.81,4706.29,8216.87,5122.98,2744.65,336413.4,1053.29,8886.96,8543.51,7481.76,4198.49,473.51,4481.54,132513.7,6408.6,5398.15,722.75,11101.89,964.93,963532.14,963532.14,2358.86,9714.23,5184.26,60214.51,633.34,499.09,1150.36,581.37,1131.72,6069.06,7081.22,4373.69,4369.05,2767.59,4821.26,2471.19,41446.48,10006.72,6108.27,122810.19,10738.05,4674.03,4570.29,3995.57,702.32,7312.49,3567.5,1994.71,1657.09,68630.15,3095.41,1971.81,3121.81,4987.75,5143.81,45458.81,8723.42,10805.83,9446.02,9145.05,55940.69,5745.53,4249.18,7667.38,30017.69,5812.29,2292.68,2959.21,881.53,15245.32,4468.28,7803.48,3293.28,18483.96,131087.07,1160.21,21394.15,84911.32,32733.62,2740.48,5556.1,826.36,3308.25,28714.16,12691.84,14841.59,25162.93,2713.13,12129.31,28118.46,9157.3,22012.11,981.57,2293.28,21069.51,4865.12,2409.12,6605.53,203471.91,254199.52,8834.5,2290.0,6002.42,1102.38,17827.48,1702.16,183763.58,308871.37,11357.4,14775.56,2234.3,3017.34,3627.48,2997.75,448593.63,265.2,7766.84,149.66,7853.17,15498.52,2619.18,2272.46,1395.69,18658.63,20051.7,1644.19,1445.37,14949.84,14949.84,5647.66,5183.53,189592.17,1841.58,23377.76,10788.66,2636.86,12787.03,13285.98,69038.41,5750.69,1726.62,5908.57,9611.47,11816.56,439.66,3470.6,13802.16,2391.38,4738.43,12099.05,13550.62,4539.49,233432.28,17549.8,6416.72,232486.18,53083.59,110520.75,104222.89,107963.88,332574.96,234198.21,188890.52,299336.05,6016.03,259448.64,22948.44,142442.16,49267.14,692460.02,211131.43,150366.56,10511.06,44145.7,733.57,3035.96,1330.82,478.1,1500.44,4794.98,1777.63,12475.89,129484.36,3887.42,8416.21,2801.67,3065.51,3814.9,235882.32,79037.41,4189.91,6621.75,49367.62,162724.99,217743.76,189352.83,191616.27,1773020.91,1869161.56,170610.11,939018.7,721458.64,1487557.25,418492.9,490747.67,257641.56,984994.76,884591.4,376507.72,507138.3,603258.56,129735.3,152649.37,3714.42,135348.62,8068.5,4890.32,27037.66,7360.48,850.65,2276.89,30858.63,8386.17,12029.55,10597.26,9213.89,526.83,2837.62,12894.97,256227.34,8348.86,5825.97,202.28,4924.01,170099.02,2346.51,3252.29,4147.62,3597.85,6574.63,1895.47,5832.27,8417.96,5127.21,3476.19,11493.01,15470.9,394.34,60223.17,32969.34,1266.42,694.12,1605.63,14079.08,10967.47,4143.87,7738.69,3783.72,23147.49,141.03,303473.14,1196.61,19288.9,2217.41,11391.64,2897.59,4886.95,2556.31,1212.07,4072.66,2441.09,7074.35,5045.77,12542.66,34.22,8087.5,18714.87,10965.89,7707.04,2980.24,20603.4,14514.14,18782.2,19332.44,3286.78,21987.06,13839.11,3879.64,38.88,2942.66,10024.14,3949.99,7888.3,4994.3,14213.84,3868.15,8723.05,7204.66,764.8,5910.1,9877.48,8194.49,1477.91,4004.23,423.81,6012.68,2478.71,10592.75,6382.51,5840.15,7767.92,740.95,67234.96,3088.09,14198.34,29414.89,402.22,6934.8,9614.45,7856.39,1125.82,208.35,3719.89,10967.31,923.14,5975.88,3703.76,4356.91,2396.83,205054.97,647.06,5514.73,7734.86,2676.46,1602.18,23938.64,9418.88,11265.41,1044.89,4944.69,2185.46,9222.29,46256.91,3220.95,15730.19,9877.72,979.03,4497.18,7891.04,2707.95,11762.79,11163.43,4538.3,1130.94,4235.51,5374.49,3186.6,2390.56,20144.74,16165.8,9191.09,1338.19,5203.95,1360.43,3042.92,7890.99,150142.45,4957.02,20603.53,7402.3,1216.72,13939.21,156474.87,5871.06,2351.74,4681.64,10819.72,1046.5,5904.7,7118.18,6022.26,5360.4,11667.76,2316.7,7049.83,2110.53,5758.46,89518.58,28369.42,2900.55,4390.62,12343.16,873.3,545.55,11987.41,2692.22,7594.57,8048.16,169734.47,113758.88,5301.22,1377.34,9583.89,18864.22,50333.01,4592.82,2362.45,6808.86,119451.25,60949.25,227236.78,351219.8,64185.86,1231953.95,2474181.78,367966.09,602938.9,1232150.93,521278.47,844849.66,378843.29,285251.82,232336.31,896122.8,414959.03,317831.06,548202.26,180173.39,243853.63,1339661.93,744654.21,10039.29,537.8,3925.8,158934.62,482.58,107159.07,5536.65,4640.64,205.26,10375.5,1760.56,7656.3,74226.4,2181.96,1739.48,2731.05,391.84,621.68,6531.31,2101.83,92.37,9627.9,13330.81,9677.36,9047.91,12368.9,10554.67,2929.78,3106.9,30709.74,12230.25,161238.92,27505.56,392853.36,201398.6,155944.68,152980.34,258194.98,102737.96,451450.27,54843.76,382001.01,119675.03,283675.61,222925.42,70325.16,378605.9,186350.94,81518.63,73309.71,142596.78,57817.21,295815.29,696235.62,10391.99,51613.5,19748.91,22391.5,15427.16,130148.62,224321.58,356617.79,167104.98,178961.93,156690.67,215815.13,295618.46,332188.93,101576.37,133213.71,168729.73,10321.88,287474.24,84299.07,111692.26,73061.34,221099.31,208690.04,130711.51,98893.95,73242.08,105879.16,42829.9,257619.2,119973.24,177096.09,48513.85,66892.29,12615.19,43249.45,438969.05,10443.68,61344.23,208929.58,16624.23,333871.74,250326.22,188118.26,126065.07,121400.87,348792.33,502911.34,232769.1,799.18,5619.13,165664.94,4696.36,3738.26,18627.02,18627.02,4122.31,82399.46,3779.27,4215.24,4296.12,9059.91,4878.63,9264.89,8499.58,3208.39,1939.74,12956.39,4054.4,2688.02,183.35,2577.79,6142.72,15025.01,14037.48,3181.52,6174.06,688.58,6557.5,5096.21,6517.62,6601.34,22251.46,2530.52,17925.91,956.17,7663.4,25704.52,3453.72,562.14,33459.4,735.15,3503.31,20971.0,27659.67,2673.5,501.11,11866.89,2108.36,6967.64,4136.97,1094.13,36563.86,24826.85,23669.02,143254.72,439543.98,140728.41,159116.29,140313.48,98313.86,302642.08,194242.46,236510.08,76284.92,34936.53,148620.65,46013.11,155624.0,151132.51,22624.41,168846.2,1332.59,263407.81,196198.94,437567.49,20997.64,56164.21,38923.13,101640.69,7314.79,95659.6,108216.36,289025.75,289264.94,129977.85,285360.2,351903.76,132864.71,94578.73,223593.6,228724.76,176732.94,93078.04,194800.13,227590.61,56556.28,11055.14,13012.92,13326.35,2791.64,380.76,12885.43,149995.94,2789.37,3332.58,4364.24,22475.23,25389.14,2455.51,4402.18,21568.37,10531.72,18491.91,10580.12,195.73,19637.34,1442.11,429.8,1119.49,12827.97,3599.45,9289.47,7108.61,14503.9,13881.42,66548.43,8442.16,68934.46,99349.84,443092.83,14878.76,76289.1,14546.82,16795.7,17788.49,7547.06,11621.56,25026.76,7517.69,17694.76,30161.79,10485.37,10438.26,1651.39,27475.78,2623.75,4475.02,10565.64,12769.01,35.2,2339.27,620.13,5204.2,3361.21,22178.82,2011.37,26279.17,8501.84,9103.87,997.13,4538.75,18934.49,2419.01,392.99,11500.28,16061.03,2909.12,6188.23,2382.11,5882.36,8137.28,21414.91,20995.68,963.64,1725.53,5876.12,669.13,2465.65,3619.41,19420.39,3204.22,7312.09,20781.99,2210.24,10696.23,18799.1,11165.58,2816.13,3117.69,11706.28,20024.59,3891.04,372.28,136416.82,11128.08,18118.2,732.85,19320.18,31678.91,90433.73,4798.43,3027.72,14586.28,19715.54,9624.49,14144.71,3204.02,14685.31,348.29,7210.86,9778.62,32907.19,93705.81,91705.07,10326.31,320.37,278349.71,5365.37,63180.2,671.31,2481.93,23840.24,1005.59,1399.83,15304.68,12638.35,4970.55,4798.39,8724.11,12208.56,9051.52,9718.62,2556.46,3198.62,10172.81,5694.58,3926.01,12587.22,16878.5,69219.36,254710.92,107838.55,590182.14,224808.55,133683.73,105980.46,138725.17,176482.1,249046.59,38307.58,313673.99,392470.41,166630.82,108616.0,118387.74,57234.15,57955.32,4362.02,256782.92,422671.35,349779.04,58930.33,53594.23,79311.12,204766.89,28105.73,98566.11,32906.54,194926.14,326468.84,92558.28,327117.43,28444.78,267812.03,381371.28,440757.72,140164.86,168479.08,185832.16,46516.42,13030.42,6064.7,14979.83,7536.31,5115.77,79.55,9169.8,7118.78,6745.4,20473.47,3966.99,2413.25,6546.7,9635.1,3107.85,77196.59,29954.16,6887.71,1991.02,6028.79,14017.83,3645.21,7052.32,5810.4,6754.06,534.45,1226.94,14771.16,1962.04,10355.12,15398.06,69119.41,9399.1,4086.36,13620.05,401.1,14694.94,11405.44,931.78,5922.61,10407.19,342249.43,323385.62,116555.35,347969.28,133240.9,344106.28,279322.88,113390.81,205235.12,415046.18,201744.79,1252.3,24686.64,241498.78,399133.53,99252.4,173366.75,46505.13,229961.93,344337.25,81874.56,54663.15,33672.18,23641.67,99657.13,79516.07,210501.76,22608.48,235189.62,162183.14,635370.28,177087.19,208741.85,3627.99,44921.54,1972.03,5521.09,14796.83,23369.78,120223.34,1695.2,2620.17,72791.13,5153.28,11304.29,48267.2,11688.59,3825.07,1290.28,14267.79,6901.26,4407.34,5466.9,22256.72,213.35,36228.33,6039.09,8777.15,23087.59,13653.91,16697.62,33149.43,4693.35,40550.78,8216.42,7899.89,4155.21,4530.34,5356.63,7531.23,14251.38,6699.52,23440.57,6655.88,16881.67,6335.61,9601.55,26045.36,426.96,760.74,3222.39,1806.31,3067.08,12240.34,2034.58,8202.16,72010.87,93427.95,7594.11,6199.3,303.62,14146.46,991.75,13191.45,2342.29,2262.1,842.26,1558.6,3720.12,16831.23,26084.81,3800.11,10539.37,10539.37,20670.84,3923.46,133270.9,19681.95,982.2,20409.77,14147.04,3236.22,7865.38,12798.31,6672.96,1615.9,2805.92,374.85,69013.09,545.68,25486.13,1443.56,1719.19,2650.15,14140.28,13343.04,2536.69,8780.64,12895.72,952.87,7874.98,4035.53,14225.59,7937.87,23347.8,3024.32,12694.9,6573.52,30588.31,18409.27,6808.99,28899.92,85.42,9768.07,1828.21,1027.42,76083.8,5573.43,206925.43,572492.51,707899.22,979818.78,280567.17,18873.1,2837270.65,525371.52,1197188.79,141633.8,521678.46,1610264.08,2565.32,16972.84,708855.97,630132.72,445570.0,50662.63,192421.03,1453126.81,112752.15,87674.26,16573.43,2941.39,90922.45,2166.7,3095.82,279.84,8615.79,29363.1,5916.27,19877.65,1575.17,162.32,2664.55,10951.21,649.2,18847.45,70376.34,24661.43,2688.52,16048.8,16115.55,3130.69,6010.62,8294.34,34465.37,12695.49,3911.87,10105.94,24674.79,16208.5,37480.38,14043.68,9419.48,101181.53,9437.39,10728.82,409.74,708.36,21595.02,13021.44,31891.69,14294.08,209.18,8269.29,8095.03,1588.8,1667.18,2184.39,549.08,1082.01,5664.57,3762.4,5920.06,34885.44,57342.59,9804.05,119579.08,8451.78,123283.25,171669.81,48514.62,485135.11,340917.37,103406.05,88793.94,162541.79,189104.46,22630.64,75925.56,226424.35,105759.64,7842.1,2317.06,254872.55,2457.11,2599.05,906.78,2092.69,18293.81,1341.34,6159.62,75131.35,3985.96,9224.5,10839.8,136001.37,163870.49,15484.5,22415.68,22877.0,22877.0,19110.24,2726.77,8302.14,2204.12,1587.79,19818.51,5989.14,22421.09,15323.44,26862.79,4158.69,1354.57,167476.47,383.64,1150.8,4059.46,921.61,10739.56,43896.22,1036.33,124112.03,5678.23,4848.52,562.64,1313.51,2681.46,1677.52,2713.07,1187.17,347.5,1637.03,947.58,1921.43,2929.49,1161.22,2005.44,1936.67,8158.24,38059.51,3272.71,2707.11,2776.75,3346.22,409.4,6326.75,139173.95,208096.95,487852.5,45649.91,130708.05,143618.67,41385.54,51147.41,246059.61,352364.46,225639.52,52896.89,409664.42,308084.98,280770.07,221970.49,68827.52,180075.86,245908.29,80199.62,573435.74,248507.58,137360.58,48951.75,99107.68,25752.66,16871.14,34688.77,208461.54,107540.28,180025.45,86497.62,21370.5,130407.77,200.47,3973.91,1015.93,8221.47,7222.78,1161.3,2463.48,51614.78,25975.86,3011.78,3112.94,423.65,1713.72,6188.07,27480.99,2343.87,2423.7,3722.55,58046.34,709.56,2524.23,1427.0,952.48,3684.23,808.11,1522.02,5249.58,1680.88,12414.4,2674.97,75146.85,186125.39,1950.33,3969.94,2413.57,3690.54,8402.36,2582.66,6122.88,57894.54,865.79,494.11,46.88,5159.5,1292.42,64279.74,3953.73,94450.19,1016.95,9030.55,8687.83,3207.13,985.95,16004.53,11557.67,3848.39,8976.25,6650.35,23159.45,5746.09,3068.79,2554.36,3187.96,654.0,3581.95,1933.73,1961.84,2906.96,896.16,78639.4,12149.25,4104.55,1516.32,4385.26,1222.27,12492.07,6078.0,1735.18,17331.19,13198.22,18391.64,25313.62,4504.32,7343.53,354.17,7331.37,2165.53,11218.84,70.48,7706.45,2188.32,1889.79,2598.97,2946.8,7800.55,7589.88,2529.38,453.25,92229.71,10000000.0,10000000.0,2930418.44,2930418.44,2150.61,29.03,2564.39,2941.66,170889.82,1602.1,957.52,336.88,2251.91,139.23,3408.82,1948.05,156238.83,130385.04,106343.2,110562.27,80249.55,58644.37,82172.42,161141.8,113399.73,207252.6,242047.69,107730.87,72495.9,90646.09,196821.07,87541.63,80278.26,49984.03,81300.2,100669.53,127307.99,12510.49,63936.91,95655.86,38606.17,23717.57,15273.3,108819.21,394042.27,41744.33,611924.5,236430.58,491195.84,278307.65,98533.44,206139.73,546131.94,71758.1,396469.72,214223.74,144517.47,142853.33,192740.42,64846.34,146467.87,120836.05,311330.4,272453.68,209292.82,58095.79,260176.72,55837.04,27850.03,309379.18,3563.97,85955.62,18835.46,193626.89,633287.14,324089.47,3523.06,102751.5,494810.97,17058.54,235409.03,489529.12,58520.38,340535.73,34407.36,566838.74,161339.92,826.25,774.72,6735.16,2625.76,123974.95,354.75,310148.54,353004.04,380211.17,285359.54,232228.39,205416.01,265268.96,165552.26,115020.65,221477.06,4699.24,46166.32,51208.37,297908.73,302602.9,70664.62,14401.68,162464.0,183202.66,107877.98,382513.35,237485.8,29637.04,17906.01,97644.2,117474.04,97851.98,76928.78,159958.57,214015.94,3907.39,2983.11,5907.27,1183.1,736.76,1105.34,25424.16,1235.49,2633.87,27484.12,3455.87,3377.9,3806.52,1823.73,82208.35,29113.15,170634.8,404053.55,334318.86,46408.89,181062.0,489240.03,12270.42,1616.06,3464.93,1080.16,2606.97,27032.59,601.85,59.59,3828.24,2801.24,2785.81,228399.52,71951.43,285832.76,473991.14,278349.51,455933.21,252806.47,345548.01,159316.78,205675.07,311864.41,190518.44,12847.91,21291.89,106105.83,63853.6,143568.62,180145.39,141702.19,153161.06,6291.29,131965.15,121598.71,2000.03,1760.01,2085.11,4011.15,97808.48,1686.41,4513.92,67243.37,3236.73,808.81,8280.29,107702.78,4083.67,1869.55,36991.08,54364.44,115.43,645.4,5540.61,7475.23,5912.76,14237.75,6797.33,2353.91,564.53,1199.97,1800.83,496.83,1560.66,54989.36,121619.14,1113.43,2215.57,498.96,106903.28,1624.21,307.75,5562.29,12088.13,1944.57,5562.62,2630.2,1006.39,34.85,70994.78,3246.88,37239.99,329.84,169941.73,169941.73,2988.02,181.87,1813.69,2445.35,139644.5,148792.1,277758.51,1465846.48,132948.43,1137763.15,507775.58,307749.99,908274.13,1032930.05,1027611.05,522854.73,225558.27,862977.6,342332.55,1501775.62,119656.92,1919.99,2578.03,592.9,13707.11,13707.11,3616.2,761.07,2662.71,1227.16,1178.41,2617.28,576.08,1619.78,2379.78,67180.68,3373.81,2329.66,33881.81,3103.47,2140.78,1216.85,2934.33,1343.85,1081.3,2337.6,4491.15,3018.73,4830.74,22349.62,3723.51,1141.74,929.14,5436.05,28034.44,13589.96,12204.29,18519.83,13061.21,8606.53,1966.24,1082.07,196.76,826.44,3350.15,34325.53,19548.49,41680.46,288846.82,308762.31,248011.57,104334.87,34808.12,116878.6,40379.62,55282.19,125774.49,8502.55,109648.19,4687.14,1500.68,924.71,178055.95,668.69,3483.45,4076.16,3027.49,1731.42,351.23,1110.27,71.0,1559.58,341.66,4150.68,3889.99,104234.05,5422.04,515.29,6701.1,354.75,2831.44,4051.25,869.49,2914.36,38.14,775.76,86070.17,86070.17,2738.44,4837.77,1685.11,1080.65,8583.71,3604.39,1379.78,1396.96,975.55,3208.14,3006.25,20470.3,770.23,618.01,4987.87,2015.07,17384.73,276.8,3655.9,21885.09,2619.71,70344.95,123755.39,1199.16,532.13,3786.19,2698.14,2541.31,1669.11,2288.47,166736.16,221605.71,485.42,4303.63,1184.99,3118.48,708.29,3775.14,4625.32,6673.58,8958.81,7888.5,1276.01,46741.66,11221.28,4953.63,5311.45,9309.74,13788.58,5630.78,7055.96,7089.25,2403.55,11627.71,3064.96,5818.7,7369.86,2080.51,148319.88,964.35,162.26,3100.46,7847.65,85070.76,438.7,8215.28,2882.94,6822.49,1024.56,6784.39,195542.41,2634.1,550.7,7930.66,6608.18,6292.42,5542.54,3365.83,851.94,3765.86,120074.73,120074.73,3728.76,89888.52,30608.52,489.56,10814.39,1251.24,68.95,28965.75,2273.88,4289.33,3710.8,5513.44,6225.18,5352.45,3543.75,52.58,2070.73,247.56,9201.12,11936.0,5146.88,7429.59,10260.12,2728.03,72688.93,3068.71,17770.7,5851.45,11446.18,88.17,74375.02,1661.29,25185.32,4255.36,139705.19,7651.8,267.92,164935.63,247480.23,4927.23,3864.48,6579.48,84466.1,2927.68,6484.32,128823.03,836.64,348231.98,1158.71,746177.2,225812.6,171335.97,260004.65,122539.12,217846.27,596406.73,673111.47,298431.03,39058.08,106334.08,354741.15,223115.02,63737.25,84014.41,178040.87,334503.92,75978.27,396286.33,82914.35,83707.76,17431.43,76579.67,197165.91,5159.29,40210.51,158367.85,81886.69,176095.63,258127.75,378866.85,281300.4,16427.61,157301.05,644028.87,375306.09,44538.32,119336.24,255710.36,94588.1,231917.45,84189.52,49251.21,257208.23,20337.14,74948.39,243756.18,21391.13,31416.69,123951.78,67056.65,20410.45,29351.64,58431.85,182501.56,17101.74,24248.86,585796.59,12163.38,208834.32,360262.92,129630.74,130078.54,125558.59,357885.34,281196.15,59784.87,181240.21,140216.68,81126.42,718.51,861582.21,185257.33,250891.95,119072.9,101055.18,128336.28,71887.0,366645.12,281593.55,145475.51,380950.81,566903.96,201464.96,16593.82,78588.13,185680.98,67017.13,122744.28,414729.24,328776.1,50535.87],\"y0\":\" \",\"yaxis\":\"y\",\"type\":\"box\"}],                        {\"template\":{\"data\":{\"histogram2dcontour\":[{\"type\":\"histogram2dcontour\",\"colorbar\":{\"outlinewidth\":0,\"ticks\":\"\"},\"colorscale\":[[0.0,\"#0d0887\"],[0.1111111111111111,\"#46039f\"],[0.2222222222222222,\"#7201a8\"],[0.3333333333333333,\"#9c179e\"],[0.4444444444444444,\"#bd3786\"],[0.5555555555555556,\"#d8576b\"],[0.6666666666666666,\"#ed7953\"],[0.7777777777777778,\"#fb9f3a\"],[0.8888888888888888,\"#fdca26\"],[1.0,\"#f0f921\"]]}],\"choropleth\":[{\"type\":\"choropleth\",\"colorbar\":{\"outlinewidth\":0,\"ticks\":\"\"}}],\"histogram2d\":[{\"type\":\"histogram2d\",\"colorbar\":{\"outlinewidth\":0,\"ticks\":\"\"},\"colorscale\":[[0.0,\"#0d0887\"],[0.1111111111111111,\"#46039f\"],[0.2222222222222222,\"#7201a8\"],[0.3333333333333333,\"#9c179e\"],[0.4444444444444444,\"#bd3786\"],[0.5555555555555556,\"#d8576b\"],[0.6666666666666666,\"#ed7953\"],[0.7777777777777778,\"#fb9f3a\"],[0.8888888888888888,\"#fdca26\"],[1.0,\"#f0f921\"]]}],\"heatmap\":[{\"type\":\"heatmap\",\"colorbar\":{\"outlinewidth\":0,\"ticks\":\"\"},\"colorscale\":[[0.0,\"#0d0887\"],[0.1111111111111111,\"#46039f\"],[0.2222222222222222,\"#7201a8\"],[0.3333333333333333,\"#9c179e\"],[0.4444444444444444,\"#bd3786\"],[0.5555555555555556,\"#d8576b\"],[0.6666666666666666,\"#ed7953\"],[0.7777777777777778,\"#fb9f3a\"],[0.8888888888888888,\"#fdca26\"],[1.0,\"#f0f921\"]]}],\"heatmapgl\":[{\"type\":\"heatmapgl\",\"colorbar\":{\"outlinewidth\":0,\"ticks\":\"\"},\"colorscale\":[[0.0,\"#0d0887\"],[0.1111111111111111,\"#46039f\"],[0.2222222222222222,\"#7201a8\"],[0.3333333333333333,\"#9c179e\"],[0.4444444444444444,\"#bd3786\"],[0.5555555555555556,\"#d8576b\"],[0.6666666666666666,\"#ed7953\"],[0.7777777777777778,\"#fb9f3a\"],[0.8888888888888888,\"#fdca26\"],[1.0,\"#f0f921\"]]}],\"contourcarpet\":[{\"type\":\"contourcarpet\",\"colorbar\":{\"outlinewidth\":0,\"ticks\":\"\"}}],\"contour\":[{\"type\":\"contour\",\"colorbar\":{\"outlinewidth\":0,\"ticks\":\"\"},\"colorscale\":[[0.0,\"#0d0887\"],[0.1111111111111111,\"#46039f\"],[0.2222222222222222,\"#7201a8\"],[0.3333333333333333,\"#9c179e\"],[0.4444444444444444,\"#bd3786\"],[0.5555555555555556,\"#d8576b\"],[0.6666666666666666,\"#ed7953\"],[0.7777777777777778,\"#fb9f3a\"],[0.8888888888888888,\"#fdca26\"],[1.0,\"#f0f921\"]]}],\"surface\":[{\"type\":\"surface\",\"colorbar\":{\"outlinewidth\":0,\"ticks\":\"\"},\"colorscale\":[[0.0,\"#0d0887\"],[0.1111111111111111,\"#46039f\"],[0.2222222222222222,\"#7201a8\"],[0.3333333333333333,\"#9c179e\"],[0.4444444444444444,\"#bd3786\"],[0.5555555555555556,\"#d8576b\"],[0.6666666666666666,\"#ed7953\"],[0.7777777777777778,\"#fb9f3a\"],[0.8888888888888888,\"#fdca26\"],[1.0,\"#f0f921\"]]}],\"mesh3d\":[{\"type\":\"mesh3d\",\"colorbar\":{\"outlinewidth\":0,\"ticks\":\"\"}}],\"scatter\":[{\"fillpattern\":{\"fillmode\":\"overlay\",\"size\":10,\"solidity\":0.2},\"type\":\"scatter\"}],\"parcoords\":[{\"type\":\"parcoords\",\"line\":{\"colorbar\":{\"outlinewidth\":0,\"ticks\":\"\"}}}],\"scatterpolargl\":[{\"type\":\"scatterpolargl\",\"marker\":{\"colorbar\":{\"outlinewidth\":0,\"ticks\":\"\"}}}],\"bar\":[{\"error_x\":{\"color\":\"#2a3f5f\"},\"error_y\":{\"color\":\"#2a3f5f\"},\"marker\":{\"line\":{\"color\":\"#E5ECF6\",\"width\":0.5},\"pattern\":{\"fillmode\":\"overlay\",\"size\":10,\"solidity\":0.2}},\"type\":\"bar\"}],\"scattergeo\":[{\"type\":\"scattergeo\",\"marker\":{\"colorbar\":{\"outlinewidth\":0,\"ticks\":\"\"}}}],\"scatterpolar\":[{\"type\":\"scatterpolar\",\"marker\":{\"colorbar\":{\"outlinewidth\":0,\"ticks\":\"\"}}}],\"histogram\":[{\"marker\":{\"pattern\":{\"fillmode\":\"overlay\",\"size\":10,\"solidity\":0.2}},\"type\":\"histogram\"}],\"scattergl\":[{\"type\":\"scattergl\",\"marker\":{\"colorbar\":{\"outlinewidth\":0,\"ticks\":\"\"}}}],\"scatter3d\":[{\"type\":\"scatter3d\",\"line\":{\"colorbar\":{\"outlinewidth\":0,\"ticks\":\"\"}},\"marker\":{\"colorbar\":{\"outlinewidth\":0,\"ticks\":\"\"}}}],\"scattermapbox\":[{\"type\":\"scattermapbox\",\"marker\":{\"colorbar\":{\"outlinewidth\":0,\"ticks\":\"\"}}}],\"scatterternary\":[{\"type\":\"scatterternary\",\"marker\":{\"colorbar\":{\"outlinewidth\":0,\"ticks\":\"\"}}}],\"scattercarpet\":[{\"type\":\"scattercarpet\",\"marker\":{\"colorbar\":{\"outlinewidth\":0,\"ticks\":\"\"}}}],\"carpet\":[{\"aaxis\":{\"endlinecolor\":\"#2a3f5f\",\"gridcolor\":\"white\",\"linecolor\":\"white\",\"minorgridcolor\":\"white\",\"startlinecolor\":\"#2a3f5f\"},\"baxis\":{\"endlinecolor\":\"#2a3f5f\",\"gridcolor\":\"white\",\"linecolor\":\"white\",\"minorgridcolor\":\"white\",\"startlinecolor\":\"#2a3f5f\"},\"type\":\"carpet\"}],\"table\":[{\"cells\":{\"fill\":{\"color\":\"#EBF0F8\"},\"line\":{\"color\":\"white\"}},\"header\":{\"fill\":{\"color\":\"#C8D4E3\"},\"line\":{\"color\":\"white\"}},\"type\":\"table\"}],\"barpolar\":[{\"marker\":{\"line\":{\"color\":\"#E5ECF6\",\"width\":0.5},\"pattern\":{\"fillmode\":\"overlay\",\"size\":10,\"solidity\":0.2}},\"type\":\"barpolar\"}],\"pie\":[{\"automargin\":true,\"type\":\"pie\"}]},\"layout\":{\"autotypenumbers\":\"strict\",\"colorway\":[\"#636efa\",\"#EF553B\",\"#00cc96\",\"#ab63fa\",\"#FFA15A\",\"#19d3f3\",\"#FF6692\",\"#B6E880\",\"#FF97FF\",\"#FECB52\"],\"font\":{\"color\":\"#2a3f5f\"},\"hovermode\":\"closest\",\"hoverlabel\":{\"align\":\"left\"},\"paper_bgcolor\":\"white\",\"plot_bgcolor\":\"#E5ECF6\",\"polar\":{\"bgcolor\":\"#E5ECF6\",\"angularaxis\":{\"gridcolor\":\"white\",\"linecolor\":\"white\",\"ticks\":\"\"},\"radialaxis\":{\"gridcolor\":\"white\",\"linecolor\":\"white\",\"ticks\":\"\"}},\"ternary\":{\"bgcolor\":\"#E5ECF6\",\"aaxis\":{\"gridcolor\":\"white\",\"linecolor\":\"white\",\"ticks\":\"\"},\"baxis\":{\"gridcolor\":\"white\",\"linecolor\":\"white\",\"ticks\":\"\"},\"caxis\":{\"gridcolor\":\"white\",\"linecolor\":\"white\",\"ticks\":\"\"}},\"coloraxis\":{\"colorbar\":{\"outlinewidth\":0,\"ticks\":\"\"}},\"colorscale\":{\"sequential\":[[0.0,\"#0d0887\"],[0.1111111111111111,\"#46039f\"],[0.2222222222222222,\"#7201a8\"],[0.3333333333333333,\"#9c179e\"],[0.4444444444444444,\"#bd3786\"],[0.5555555555555556,\"#d8576b\"],[0.6666666666666666,\"#ed7953\"],[0.7777777777777778,\"#fb9f3a\"],[0.8888888888888888,\"#fdca26\"],[1.0,\"#f0f921\"]],\"sequentialminus\":[[0.0,\"#0d0887\"],[0.1111111111111111,\"#46039f\"],[0.2222222222222222,\"#7201a8\"],[0.3333333333333333,\"#9c179e\"],[0.4444444444444444,\"#bd3786\"],[0.5555555555555556,\"#d8576b\"],[0.6666666666666666,\"#ed7953\"],[0.7777777777777778,\"#fb9f3a\"],[0.8888888888888888,\"#fdca26\"],[1.0,\"#f0f921\"]],\"diverging\":[[0,\"#8e0152\"],[0.1,\"#c51b7d\"],[0.2,\"#de77ae\"],[0.3,\"#f1b6da\"],[0.4,\"#fde0ef\"],[0.5,\"#f7f7f7\"],[0.6,\"#e6f5d0\"],[0.7,\"#b8e186\"],[0.8,\"#7fbc41\"],[0.9,\"#4d9221\"],[1,\"#276419\"]]},\"xaxis\":{\"gridcolor\":\"white\",\"linecolor\":\"white\",\"ticks\":\"\",\"title\":{\"standoff\":15},\"zerolinecolor\":\"white\",\"automargin\":true,\"zerolinewidth\":2},\"yaxis\":{\"gridcolor\":\"white\",\"linecolor\":\"white\",\"ticks\":\"\",\"title\":{\"standoff\":15},\"zerolinecolor\":\"white\",\"automargin\":true,\"zerolinewidth\":2},\"scene\":{\"xaxis\":{\"backgroundcolor\":\"#E5ECF6\",\"gridcolor\":\"white\",\"linecolor\":\"white\",\"showbackground\":true,\"ticks\":\"\",\"zerolinecolor\":\"white\",\"gridwidth\":2},\"yaxis\":{\"backgroundcolor\":\"#E5ECF6\",\"gridcolor\":\"white\",\"linecolor\":\"white\",\"showbackground\":true,\"ticks\":\"\",\"zerolinecolor\":\"white\",\"gridwidth\":2},\"zaxis\":{\"backgroundcolor\":\"#E5ECF6\",\"gridcolor\":\"white\",\"linecolor\":\"white\",\"showbackground\":true,\"ticks\":\"\",\"zerolinecolor\":\"white\",\"gridwidth\":2}},\"shapedefaults\":{\"line\":{\"color\":\"#2a3f5f\"}},\"annotationdefaults\":{\"arrowcolor\":\"#2a3f5f\",\"arrowhead\":0,\"arrowwidth\":1},\"geo\":{\"bgcolor\":\"white\",\"landcolor\":\"#E5ECF6\",\"subunitcolor\":\"white\",\"showland\":true,\"showlakes\":true,\"lakecolor\":\"white\"},\"title\":{\"x\":0.05},\"mapbox\":{\"style\":\"light\"}}},\"xaxis\":{\"anchor\":\"y\",\"domain\":[0.0,1.0]},\"yaxis\":{\"anchor\":\"x\",\"domain\":[0.0,1.0],\"title\":{\"text\":\"amount\"}},\"legend\":{\"tracegroupgap\":0},\"margin\":{\"t\":60},\"boxmode\":\"group\"},                        {\"responsive\": true}                    ).then(function(){\n",
              "                            \n",
              "var gd = document.getElementById('5a2ef2ec-2be0-430b-a4f9-c427c6e836eb');\n",
              "var x = new MutationObserver(function (mutations, observer) {{\n",
              "        var display = window.getComputedStyle(gd).display;\n",
              "        if (!display || display === 'none') {{\n",
              "            console.log([gd, 'removed!']);\n",
              "            Plotly.purge(gd);\n",
              "            observer.disconnect();\n",
              "        }}\n",
              "}});\n",
              "\n",
              "// Listen for the removal of the full notebook cells\n",
              "var notebookContainer = gd.closest('#notebook-container');\n",
              "if (notebookContainer) {{\n",
              "    x.observe(notebookContainer, {childList: true});\n",
              "}}\n",
              "\n",
              "// Listen for the clearing of the current output cell\n",
              "var outputEl = gd.closest('.output');\n",
              "if (outputEl) {{\n",
              "    x.observe(outputEl, {childList: true});\n",
              "}}\n",
              "\n",
              "                        })                };                            </script>        </div>\n",
              "</body>\n",
              "</html>"
            ]
          },
          "metadata": {}
        }
      ]
    },
    {
      "cell_type": "code",
      "source": [
        "sns.heatmap(df.corr(), cmap='RdBu')"
      ],
      "metadata": {
        "colab": {
          "base_uri": "https://localhost:8080/",
          "height": 554
        },
        "id": "GPeSJXAdte7a",
        "outputId": "df4e9b69-8090-4993-f4fc-916cdd69dfae"
      },
      "execution_count": 52,
      "outputs": [
        {
          "output_type": "execute_result",
          "data": {
            "text/plain": [
              "<Axes: >"
            ]
          },
          "metadata": {},
          "execution_count": 52
        },
        {
          "output_type": "display_data",
          "data": {
            "text/plain": [
              "<Figure size 640x480 with 2 Axes>"
            ],
            "image/png": "[encoded data removed]"
          },
          "metadata": {}
        }
      ]
    },
    {
      "cell_type": "markdown",
      "source": [
        "Now , we perform feature engineering , by adding new features as the existing dataset is not enough to do so\n"
      ],
      "metadata": {
        "id": "NGJ_ir3-vsLO"
      }
    },
    {
      "cell_type": "code",
      "source": [
        "df = df.head(50000)"
      ],
      "metadata": {
        "id": "j39I3TSUv0Xo"
      },
      "execution_count": 53,
      "outputs": []
    },
    {
      "cell_type": "code",
      "source": [
        "df.shape"
      ],
      "metadata": {
        "colab": {
          "base_uri": "https://localhost:8080/"
        },
        "id": "cgMxdy_pxWlf",
        "outputId": "4d25f9fb-c5b9-49b9-b307-328d0e149e46"
      },
      "execution_count": 54,
      "outputs": [
        {
          "output_type": "execute_result",
          "data": {
            "text/plain": [
              "(50000, 11)"
            ]
          },
          "metadata": {},
          "execution_count": 54
        }
      ]
    },
    {
      "cell_type": "code",
      "source": [
        "#Tallying the balance\n",
        "def balance_diff(data):\n",
        "    '''balance_diff checks whether the money debited from sender has exactly credited to the receiver\n",
        "       then it creates a new column which indicates 1 when there is a deviation else 0'''\n",
        "    #Sender's balance\n",
        "    orig_change=data['newbalanceOrig']-data['oldbalanceOrg']\n",
        "    orig_change=orig_change.astype(int)\n",
        "    for i in orig_change:\n",
        "        if i<0:\n",
        "            data['orig_txn_diff']=round(data['amount']+orig_change,2)\n",
        "        else:\n",
        "            data['orig_txn_diff']=round(data['amount']-orig_change,2)\n",
        "    data['orig_txn_diff']=data['orig_txn_diff'].astype(int)\n",
        "    data['orig_diff'] = [1 if n !=0 else 0 for n in data['orig_txn_diff']]\n",
        "\n",
        "    #Receiver's balance\n",
        "    dest_change=data['newbalanceDest']-data['oldbalanceDest']\n",
        "    dest_change=dest_change.astype(int)\n",
        "    for i in dest_change:\n",
        "        if i<0:\n",
        "            data['dest_txn_diff']=round(data['amount']+dest_change,2)\n",
        "        else:\n",
        "            data['dest_txn_diff']=round(data['amount']-dest_change,2)\n",
        "    data['dest_txn_diff']=data['dest_txn_diff'].astype(int)\n",
        "    data['dest_diff'] = [1 if n !=0 else 0 for n in data['dest_txn_diff']]\n",
        "\n",
        "    data.drop(['orig_txn_diff','dest_txn_diff'],axis=1,inplace = True)\n",
        "\n",
        "#Surge indicator\n",
        "def surge_indicator(data):\n",
        "    '''Creates a new column which has 1 if the transaction amount is greater than the threshold\n",
        "    else it will be 0'''\n",
        "    data['surge']=[1 if n>450000 else 0 for n in data['amount']]\n",
        "\n",
        "#Frequency indicator\n",
        "def frequency_receiver(data):\n",
        "    '''Creates a new column which has 1 if the receiver receives money from many individuals\n",
        "    else it will be 0'''\n",
        "    data['freq_Dest']=data['nameDest'].map(data['nameDest'].value_counts())\n",
        "    data['freq_dest']=[1 if n>20 else 0 for n in data['freq_Dest']]\n",
        "\n",
        "    data.drop(['freq_Dest'],axis=1,inplace = True)\n",
        "\n",
        "#Tracking the receiver as merchant or not\n",
        "def merchant(data):\n",
        "    '''We also have customer ids which starts with M in Receiver name, it indicates merchant\n",
        "    this function will flag if there is a merchant in receiver end '''\n",
        "    values = ['M']\n",
        "    conditions = list(map(data['nameDest'].str.contains, values))\n",
        "    data['merchant'] = np.select(conditions, '1', '0')"
      ],
      "metadata": {
        "id": "mp1wXsZxxaWt"
      },
      "execution_count": 55,
      "outputs": []
    },
    {
      "cell_type": "code",
      "source": [
        "balance_diff(df)\n",
        "\n",
        "df['orig_diff'].value_counts()\n",
        "df['dest_diff'].value_counts()"
      ],
      "metadata": {
        "colab": {
          "base_uri": "https://localhost:8080/"
        },
        "id": "yWvqv2QKxyG_",
        "outputId": "a9257c57-5ac9-4c32-fb30-2f9ef72fde00"
      },
      "execution_count": 56,
      "outputs": [
        {
          "output_type": "execute_result",
          "data": {
            "text/plain": [
              "1    44994\n",
              "0     5006\n",
              "Name: dest_diff, dtype: int64"
            ]
          },
          "metadata": {},
          "execution_count": 56
        }
      ]
    },
    {
      "cell_type": "code",
      "source": [
        "#Applying surge_indicator function\n",
        "surge_indicator(df)\n",
        "df['surge'].value_counts()"
      ],
      "metadata": {
        "colab": {
          "base_uri": "https://localhost:8080/"
        },
        "id": "eC5Ghvjxx6Ld",
        "outputId": "26921b5a-225b-4df5-8596-677d9bc4308b"
      },
      "execution_count": 57,
      "outputs": [
        {
          "output_type": "execute_result",
          "data": {
            "text/plain": [
              "0    46392\n",
              "1     3608\n",
              "Name: surge, dtype: int64"
            ]
          },
          "metadata": {},
          "execution_count": 57
        }
      ]
    },
    {
      "cell_type": "code",
      "source": [
        "#Applying frequency_receiver function\n",
        "frequency_receiver(df)\n",
        "df['freq_dest'].value_counts()"
      ],
      "metadata": {
        "colab": {
          "base_uri": "https://localhost:8080/"
        },
        "id": "QX6vzgt3ymZx",
        "outputId": "54efe47f-2bc0-49d0-9803-891b785f79c2"
      },
      "execution_count": 58,
      "outputs": [
        {
          "output_type": "execute_result",
          "data": {
            "text/plain": [
              "0    46295\n",
              "1     3705\n",
              "Name: freq_dest, dtype: int64"
            ]
          },
          "metadata": {},
          "execution_count": 58
        }
      ]
    },
    {
      "cell_type": "code",
      "source": [
        "df_1 = df.copy()"
      ],
      "metadata": {
        "id": "fPfJ3glRysD-"
      },
      "execution_count": 59,
      "outputs": []
    },
    {
      "cell_type": "code",
      "source": [
        "max_size = df['isFraud'].value_counts().max()\n",
        "lst = [df_1]\n",
        "for class_index, group in df_1.groupby('isFraud'):\n",
        "  lst.append(group.sample(max_size-len(group), replace = True))\n",
        "df_1 = pd.concat(lst)"
      ],
      "metadata": {
        "id": "a7oIcWyKzDcV"
      },
      "execution_count": 60,
      "outputs": []
    },
    {
      "cell_type": "code",
      "source": [
        "import plotly.graph_objects as go\n",
        "fig = go.Figure(data=[go.Pie(labels=['Not Fraud','Fraud'], values=df_1['isFraud'].value_counts())])\n",
        "fig.show()"
      ],
      "metadata": {
        "colab": {
          "base_uri": "https://localhost:8080/",
          "height": 542
        },
        "id": "8bGnUQ5LzoYD",
        "outputId": "7b6c9047-b80b-4c9a-e483-a326e06aadf1"
      },
      "execution_count": 61,
      "outputs": [
        {
          "output_type": "display_data",
          "data": {
            "text/html": [
              "<html>\n",
              "<head><meta charset=\"utf-8\" /></head>\n",
              "<body>\n",
              "    <div>            <script src=\"https://cdnjs.cloudflare.com/ajax/libs/mathjax/2.7.5/MathJax.js?config=TeX-AMS-MML_SVG\"></script><script type=\"text/javascript\">if (window.MathJax && window.MathJax.Hub && window.MathJax.Hub.Config) {window.MathJax.Hub.Config({SVG: {font: \"STIX-Web\"}});}</script>                <script type=\"text/javascript\">window.PlotlyConfig = {MathJaxConfig: 'local'};</script>\n",
              "        <script src=\"https://cdn.plot.ly/plotly-2.18.2.min.js\"></script>                <div id=\"1a080059-ef39-48cd-adc2-cc88fcbfad49\" class=\"plotly-graph-div\" style=\"height:525px; width:100%;\"></div>            <script type=\"text/javascript\">                                    window.PLOTLYENV=window.PLOTLYENV || {};                                    if (document.getElementById(\"1a080059-ef39-48cd-adc2-cc88fcbfad49\")) {                    Plotly.newPlot(                        \"1a080059-ef39-48cd-adc2-cc88fcbfad49\",                        [{\"labels\":[\"Not Fraud\",\"Fraud\"],\"values\":[49900,49900],\"type\":\"pie\"}],                        {\"template\":{\"data\":{\"histogram2dcontour\":[{\"type\":\"histogram2dcontour\",\"colorbar\":{\"outlinewidth\":0,\"ticks\":\"\"},\"colorscale\":[[0.0,\"#0d0887\"],[0.1111111111111111,\"#46039f\"],[0.2222222222222222,\"#7201a8\"],[0.3333333333333333,\"#9c179e\"],[0.4444444444444444,\"#bd3786\"],[0.5555555555555556,\"#d8576b\"],[0.6666666666666666,\"#ed7953\"],[0.7777777777777778,\"#fb9f3a\"],[0.8888888888888888,\"#fdca26\"],[1.0,\"#f0f921\"]]}],\"choropleth\":[{\"type\":\"choropleth\",\"colorbar\":{\"outlinewidth\":0,\"ticks\":\"\"}}],\"histogram2d\":[{\"type\":\"histogram2d\",\"colorbar\":{\"outlinewidth\":0,\"ticks\":\"\"},\"colorscale\":[[0.0,\"#0d0887\"],[0.1111111111111111,\"#46039f\"],[0.2222222222222222,\"#7201a8\"],[0.3333333333333333,\"#9c179e\"],[0.4444444444444444,\"#bd3786\"],[0.5555555555555556,\"#d8576b\"],[0.6666666666666666,\"#ed7953\"],[0.7777777777777778,\"#fb9f3a\"],[0.8888888888888888,\"#fdca26\"],[1.0,\"#f0f921\"]]}],\"heatmap\":[{\"type\":\"heatmap\",\"colorbar\":{\"outlinewidth\":0,\"ticks\":\"\"},\"colorscale\":[[0.0,\"#0d0887\"],[0.1111111111111111,\"#46039f\"],[0.2222222222222222,\"#7201a8\"],[0.3333333333333333,\"#9c179e\"],[0.4444444444444444,\"#bd3786\"],[0.5555555555555556,\"#d8576b\"],[0.6666666666666666,\"#ed7953\"],[0.7777777777777778,\"#fb9f3a\"],[0.8888888888888888,\"#fdca26\"],[1.0,\"#f0f921\"]]}],\"heatmapgl\":[{\"type\":\"heatmapgl\",\"colorbar\":{\"outlinewidth\":0,\"ticks\":\"\"},\"colorscale\":[[0.0,\"#0d0887\"],[0.1111111111111111,\"#46039f\"],[0.2222222222222222,\"#7201a8\"],[0.3333333333333333,\"#9c179e\"],[0.4444444444444444,\"#bd3786\"],[0.5555555555555556,\"#d8576b\"],[0.6666666666666666,\"#ed7953\"],[0.7777777777777778,\"#fb9f3a\"],[0.8888888888888888,\"#fdca26\"],[1.0,\"#f0f921\"]]}],\"contourcarpet\":[{\"type\":\"contourcarpet\",\"colorbar\":{\"outlinewidth\":0,\"ticks\":\"\"}}],\"contour\":[{\"type\":\"contour\",\"colorbar\":{\"outlinewidth\":0,\"ticks\":\"\"},\"colorscale\":[[0.0,\"#0d0887\"],[0.1111111111111111,\"#46039f\"],[0.2222222222222222,\"#7201a8\"],[0.3333333333333333,\"#9c179e\"],[0.4444444444444444,\"#bd3786\"],[0.5555555555555556,\"#d8576b\"],[0.6666666666666666,\"#ed7953\"],[0.7777777777777778,\"#fb9f3a\"],[0.8888888888888888,\"#fdca26\"],[1.0,\"#f0f921\"]]}],\"surface\":[{\"type\":\"surface\",\"colorbar\":{\"outlinewidth\":0,\"ticks\":\"\"},\"colorscale\":[[0.0,\"#0d0887\"],[0.1111111111111111,\"#46039f\"],[0.2222222222222222,\"#7201a8\"],[0.3333333333333333,\"#9c179e\"],[0.4444444444444444,\"#bd3786\"],[0.5555555555555556,\"#d8576b\"],[0.6666666666666666,\"#ed7953\"],[0.7777777777777778,\"#fb9f3a\"],[0.8888888888888888,\"#fdca26\"],[1.0,\"#f0f921\"]]}],\"mesh3d\":[{\"type\":\"mesh3d\",\"colorbar\":{\"outlinewidth\":0,\"ticks\":\"\"}}],\"scatter\":[{\"fillpattern\":{\"fillmode\":\"overlay\",\"size\":10,\"solidity\":0.2},\"type\":\"scatter\"}],\"parcoords\":[{\"type\":\"parcoords\",\"line\":{\"colorbar\":{\"outlinewidth\":0,\"ticks\":\"\"}}}],\"scatterpolargl\":[{\"type\":\"scatterpolargl\",\"marker\":{\"colorbar\":{\"outlinewidth\":0,\"ticks\":\"\"}}}],\"bar\":[{\"error_x\":{\"color\":\"#2a3f5f\"},\"error_y\":{\"color\":\"#2a3f5f\"},\"marker\":{\"line\":{\"color\":\"#E5ECF6\",\"width\":0.5},\"pattern\":{\"fillmode\":\"overlay\",\"size\":10,\"solidity\":0.2}},\"type\":\"bar\"}],\"scattergeo\":[{\"type\":\"scattergeo\",\"marker\":{\"colorbar\":{\"outlinewidth\":0,\"ticks\":\"\"}}}],\"scatterpolar\":[{\"type\":\"scatterpolar\",\"marker\":{\"colorbar\":{\"outlinewidth\":0,\"ticks\":\"\"}}}],\"histogram\":[{\"marker\":{\"pattern\":{\"fillmode\":\"overlay\",\"size\":10,\"solidity\":0.2}},\"type\":\"histogram\"}],\"scattergl\":[{\"type\":\"scattergl\",\"marker\":{\"colorbar\":{\"outlinewidth\":0,\"ticks\":\"\"}}}],\"scatter3d\":[{\"type\":\"scatter3d\",\"line\":{\"colorbar\":{\"outlinewidth\":0,\"ticks\":\"\"}},\"marker\":{\"colorbar\":{\"outlinewidth\":0,\"ticks\":\"\"}}}],\"scattermapbox\":[{\"type\":\"scattermapbox\",\"marker\":{\"colorbar\":{\"outlinewidth\":0,\"ticks\":\"\"}}}],\"scatterternary\":[{\"type\":\"scatterternary\",\"marker\":{\"colorbar\":{\"outlinewidth\":0,\"ticks\":\"\"}}}],\"scattercarpet\":[{\"type\":\"scattercarpet\",\"marker\":{\"colorbar\":{\"outlinewidth\":0,\"ticks\":\"\"}}}],\"carpet\":[{\"aaxis\":{\"endlinecolor\":\"#2a3f5f\",\"gridcolor\":\"white\",\"linecolor\":\"white\",\"minorgridcolor\":\"white\",\"startlinecolor\":\"#2a3f5f\"},\"baxis\":{\"endlinecolor\":\"#2a3f5f\",\"gridcolor\":\"white\",\"linecolor\":\"white\",\"minorgridcolor\":\"white\",\"startlinecolor\":\"#2a3f5f\"},\"type\":\"carpet\"}],\"table\":[{\"cells\":{\"fill\":{\"color\":\"#EBF0F8\"},\"line\":{\"color\":\"white\"}},\"header\":{\"fill\":{\"color\":\"#C8D4E3\"},\"line\":{\"color\":\"white\"}},\"type\":\"table\"}],\"barpolar\":[{\"marker\":{\"line\":{\"color\":\"#E5ECF6\",\"width\":0.5},\"pattern\":{\"fillmode\":\"overlay\",\"size\":10,\"solidity\":0.2}},\"type\":\"barpolar\"}],\"pie\":[{\"automargin\":true,\"type\":\"pie\"}]},\"layout\":{\"autotypenumbers\":\"strict\",\"colorway\":[\"#636efa\",\"#EF553B\",\"#00cc96\",\"#ab63fa\",\"#FFA15A\",\"#19d3f3\",\"#FF6692\",\"#B6E880\",\"#FF97FF\",\"#FECB52\"],\"font\":{\"color\":\"#2a3f5f\"},\"hovermode\":\"closest\",\"hoverlabel\":{\"align\":\"left\"},\"paper_bgcolor\":\"white\",\"plot_bgcolor\":\"#E5ECF6\",\"polar\":{\"bgcolor\":\"#E5ECF6\",\"angularaxis\":{\"gridcolor\":\"white\",\"linecolor\":\"white\",\"ticks\":\"\"},\"radialaxis\":{\"gridcolor\":\"white\",\"linecolor\":\"white\",\"ticks\":\"\"}},\"ternary\":{\"bgcolor\":\"#E5ECF6\",\"aaxis\":{\"gridcolor\":\"white\",\"linecolor\":\"white\",\"ticks\":\"\"},\"baxis\":{\"gridcolor\":\"white\",\"linecolor\":\"white\",\"ticks\":\"\"},\"caxis\":{\"gridcolor\":\"white\",\"linecolor\":\"white\",\"ticks\":\"\"}},\"coloraxis\":{\"colorbar\":{\"outlinewidth\":0,\"ticks\":\"\"}},\"colorscale\":{\"sequential\":[[0.0,\"#0d0887\"],[0.1111111111111111,\"#46039f\"],[0.2222222222222222,\"#7201a8\"],[0.3333333333333333,\"#9c179e\"],[0.4444444444444444,\"#bd3786\"],[0.5555555555555556,\"#d8576b\"],[0.6666666666666666,\"#ed7953\"],[0.7777777777777778,\"#fb9f3a\"],[0.8888888888888888,\"#fdca26\"],[1.0,\"#f0f921\"]],\"sequentialminus\":[[0.0,\"#0d0887\"],[0.1111111111111111,\"#46039f\"],[0.2222222222222222,\"#7201a8\"],[0.3333333333333333,\"#9c179e\"],[0.4444444444444444,\"#bd3786\"],[0.5555555555555556,\"#d8576b\"],[0.6666666666666666,\"#ed7953\"],[0.7777777777777778,\"#fb9f3a\"],[0.8888888888888888,\"#fdca26\"],[1.0,\"#f0f921\"]],\"diverging\":[[0,\"#8e0152\"],[0.1,\"#c51b7d\"],[0.2,\"#de77ae\"],[0.3,\"#f1b6da\"],[0.4,\"#fde0ef\"],[0.5,\"#f7f7f7\"],[0.6,\"#e6f5d0\"],[0.7,\"#b8e186\"],[0.8,\"#7fbc41\"],[0.9,\"#4d9221\"],[1,\"#276419\"]]},\"xaxis\":{\"gridcolor\":\"white\",\"linecolor\":\"white\",\"ticks\":\"\",\"title\":{\"standoff\":15},\"zerolinecolor\":\"white\",\"automargin\":true,\"zerolinewidth\":2},\"yaxis\":{\"gridcolor\":\"white\",\"linecolor\":\"white\",\"ticks\":\"\",\"title\":{\"standoff\":15},\"zerolinecolor\":\"white\",\"automargin\":true,\"zerolinewidth\":2},\"scene\":{\"xaxis\":{\"backgroundcolor\":\"#E5ECF6\",\"gridcolor\":\"white\",\"linecolor\":\"white\",\"showbackground\":true,\"ticks\":\"\",\"zerolinecolor\":\"white\",\"gridwidth\":2},\"yaxis\":{\"backgroundcolor\":\"#E5ECF6\",\"gridcolor\":\"white\",\"linecolor\":\"white\",\"showbackground\":true,\"ticks\":\"\",\"zerolinecolor\":\"white\",\"gridwidth\":2},\"zaxis\":{\"backgroundcolor\":\"#E5ECF6\",\"gridcolor\":\"white\",\"linecolor\":\"white\",\"showbackground\":true,\"ticks\":\"\",\"zerolinecolor\":\"white\",\"gridwidth\":2}},\"shapedefaults\":{\"line\":{\"color\":\"#2a3f5f\"}},\"annotationdefaults\":{\"arrowcolor\":\"#2a3f5f\",\"arrowhead\":0,\"arrowwidth\":1},\"geo\":{\"bgcolor\":\"white\",\"landcolor\":\"#E5ECF6\",\"subunitcolor\":\"white\",\"showland\":true,\"showlakes\":true,\"lakecolor\":\"white\"},\"title\":{\"x\":0.05},\"mapbox\":{\"style\":\"light\"}}}},                        {\"responsive\": true}                    ).then(function(){\n",
              "                            \n",
              "var gd = document.getElementById('1a080059-ef39-48cd-adc2-cc88fcbfad49');\n",
              "var x = new MutationObserver(function (mutations, observer) {{\n",
              "        var display = window.getComputedStyle(gd).display;\n",
              "        if (!display || display === 'none') {{\n",
              "            console.log([gd, 'removed!']);\n",
              "            Plotly.purge(gd);\n",
              "            observer.disconnect();\n",
              "        }}\n",
              "}});\n",
              "\n",
              "// Listen for the removal of the full notebook cells\n",
              "var notebookContainer = gd.closest('#notebook-container');\n",
              "if (notebookContainer) {{\n",
              "    x.observe(notebookContainer, {childList: true});\n",
              "}}\n",
              "\n",
              "// Listen for the clearing of the current output cell\n",
              "var outputEl = gd.closest('.output');\n",
              "if (outputEl) {{\n",
              "    x.observe(outputEl, {childList: true});\n",
              "}}\n",
              "\n",
              "                        })                };                            </script>        </div>\n",
              "</body>\n",
              "</html>"
            ]
          },
          "metadata": {}
        }
      ]
    },
    {
      "cell_type": "code",
      "source": [
        "df_1 = pd.concat([df_1,pd.get_dummies(df_1['type'], prefix='type_')],axis=1)\n",
        "df_1.drop(['type'],axis=1,inplace = True)\n",
        "df_1.head()"
      ],
      "metadata": {
        "colab": {
          "base_uri": "https://localhost:8080/",
          "height": 270
        },
        "id": "5E9ghxA4TdwL",
        "outputId": "e455a2d7-c525-4b3a-bf9f-fa44038131e8"
      },
      "execution_count": 62,
      "outputs": [
        {
          "output_type": "execute_result",
          "data": {
            "text/plain": [
              "   step    amount     nameOrig  oldbalanceOrg  newbalanceOrig     nameDest  \\\n",
              "0     1   9839.64  C1231006815       170136.0       160296.36  M1979787155   \n",
              "1     1   1864.28  C1666544295        21249.0        19384.72  M2044282225   \n",
              "2     1    181.00  C1305486145          181.0            0.00   C553264065   \n",
              "3     1    181.00   C840083671          181.0            0.00    C38997010   \n",
              "4     1  11668.14  C2048537720        41554.0        29885.86  M1230701703   \n",
              "\n",
              "   oldbalanceDest  newbalanceDest  isFraud  isFlaggedFraud  orig_diff  \\\n",
              "0             0.0             0.0        0               0          0   \n",
              "1             0.0             0.0        0               0          0   \n",
              "2             0.0             0.0        1               0          0   \n",
              "3         21182.0             0.0        1               0          0   \n",
              "4             0.0             0.0        0               0          0   \n",
              "\n",
              "   dest_diff  surge  freq_dest  type__CASH_IN  type__CASH_OUT  type__DEBIT  \\\n",
              "0          1      0          0              0               0            0   \n",
              "1          1      0          0              0               0            0   \n",
              "2          1      0          0              0               0            0   \n",
              "3          1      0          0              0               1            0   \n",
              "4          1      0          0              0               0            0   \n",
              "\n",
              "   type__PAYMENT  type__TRANSFER  \n",
              "0              1               0  \n",
              "1              1               0  \n",
              "2              0               1  \n",
              "3              0               0  \n",
              "4              1               0  "
            ],
            "text/html": [
              "\n",
              "\n",
              "  <div id=\"df-34b94a98-ca3a-4575-9c1b-4a455f771295\">\n",
              "    <div class=\"colab-df-container\">\n",
              "      <div>\n",
              "<style scoped>\n",
              "    .dataframe tbody tr th:only-of-type {\n",
              "        vertical-align: middle;\n",
              "    }\n",
              "\n",
              "    .dataframe tbody tr th {\n",
              "        vertical-align: top;\n",
              "    }\n",
              "\n",
              "    .dataframe thead th {\n",
              "        text-align: right;\n",
              "    }\n",
              "</style>\n",
              "<table border=\"1\" class=\"dataframe\">\n",
              "  <thead>\n",
              "    <tr style=\"text-align: right;\">\n",
              "      <th></th>\n",
              "      <th>step</th>\n",
              "      <th>amount</th>\n",
              "      <th>nameOrig</th>\n",
              "      <th>oldbalanceOrg</th>\n",
              "      <th>newbalanceOrig</th>\n",
              "      <th>nameDest</th>\n",
              "      <th>oldbalanceDest</th>\n",
              "      <th>newbalanceDest</th>\n",
              "      <th>isFraud</th>\n",
              "      <th>isFlaggedFraud</th>\n",
              "      <th>orig_diff</th>\n",
              "      <th>dest_diff</th>\n",
              "      <th>surge</th>\n",
              "      <th>freq_dest</th>\n",
              "      <th>type__CASH_IN</th>\n",
              "      <th>type__CASH_OUT</th>\n",
              "      <th>type__DEBIT</th>\n",
              "      <th>type__PAYMENT</th>\n",
              "      <th>type__TRANSFER</th>\n",
              "    </tr>\n",
              "  </thead>\n",
              "  <tbody>\n",
              "    <tr>\n",
              "      <th>0</th>\n",
              "      <td>1</td>\n",
              "      <td>9839.64</td>\n",
              "      <td>C1231006815</td>\n",
              "      <td>170136.0</td>\n",
              "      <td>160296.36</td>\n",
              "      <td>M1979787155</td>\n",
              "      <td>0.0</td>\n",
              "      <td>0.0</td>\n",
              "      <td>0</td>\n",
              "      <td>0</td>\n",
              "      <td>0</td>\n",
              "      <td>1</td>\n",
              "      <td>0</td>\n",
              "      <td>0</td>\n",
              "      <td>0</td>\n",
              "      <td>0</td>\n",
              "      <td>0</td>\n",
              "      <td>1</td>\n",
              "      <td>0</td>\n",
              "    </tr>\n",
              "    <tr>\n",
              "      <th>1</th>\n",
              "      <td>1</td>\n",
              "      <td>1864.28</td>\n",
              "      <td>C1666544295</td>\n",
              "      <td>21249.0</td>\n",
              "      <td>19384.72</td>\n",
              "      <td>M2044282225</td>\n",
              "      <td>0.0</td>\n",
              "      <td>0.0</td>\n",
              "      <td>0</td>\n",
              "      <td>0</td>\n",
              "      <td>0</td>\n",
              "      <td>1</td>\n",
              "      <td>0</td>\n",
              "      <td>0</td>\n",
              "      <td>0</td>\n",
              "      <td>0</td>\n",
              "      <td>0</td>\n",
              "      <td>1</td>\n",
              "      <td>0</td>\n",
              "    </tr>\n",
              "    <tr>\n",
              "      <th>2</th>\n",
              "      <td>1</td>\n",
              "      <td>181.00</td>\n",
              "      <td>C1305486145</td>\n",
              "      <td>181.0</td>\n",
              "      <td>0.00</td>\n",
              "      <td>C553264065</td>\n",
              "      <td>0.0</td>\n",
              "      <td>0.0</td>\n",
              "      <td>1</td>\n",
              "      <td>0</td>\n",
              "      <td>0</td>\n",
              "      <td>1</td>\n",
              "      <td>0</td>\n",
              "      <td>0</td>\n",
              "      <td>0</td>\n",
              "      <td>0</td>\n",
              "      <td>0</td>\n",
              "      <td>0</td>\n",
              "      <td>1</td>\n",
              "    </tr>\n",
              "    <tr>\n",
              "      <th>3</th>\n",
              "      <td>1</td>\n",
              "      <td>181.00</td>\n",
              "      <td>C840083671</td>\n",
              "      <td>181.0</td>\n",
              "      <td>0.00</td>\n",
              "      <td>C38997010</td>\n",
              "      <td>21182.0</td>\n",
              "      <td>0.0</td>\n",
              "      <td>1</td>\n",
              "      <td>0</td>\n",
              "      <td>0</td>\n",
              "      <td>1</td>\n",
              "      <td>0</td>\n",
              "      <td>0</td>\n",
              "      <td>0</td>\n",
              "      <td>1</td>\n",
              "      <td>0</td>\n",
              "      <td>0</td>\n",
              "      <td>0</td>\n",
              "    </tr>\n",
              "    <tr>\n",
              "      <th>4</th>\n",
              "      <td>1</td>\n",
              "      <td>11668.14</td>\n",
              "      <td>C2048537720</td>\n",
              "      <td>41554.0</td>\n",
              "      <td>29885.86</td>\n",
              "      <td>M1230701703</td>\n",
              "      <td>0.0</td>\n",
              "      <td>0.0</td>\n",
              "      <td>0</td>\n",
              "      <td>0</td>\n",
              "      <td>0</td>\n",
              "      <td>1</td>\n",
              "      <td>0</td>\n",
              "      <td>0</td>\n",
              "      <td>0</td>\n",
              "      <td>0</td>\n",
              "      <td>0</td>\n",
              "      <td>1</td>\n",
              "      <td>0</td>\n",
              "    </tr>\n",
              "  </tbody>\n",
              "</table>\n",
              "</div>\n",
              "      <button class=\"colab-df-convert\" onclick=\"convertToInteractive('df-34b94a98-ca3a-4575-9c1b-4a455f771295')\"\n",
              "              title=\"Convert this dataframe to an interactive table.\"\n",
              "              style=\"display:none;\">\n",
              "\n",
              "  <svg xmlns=\"http://www.w3.org/2000/svg\" height=\"24px\"viewBox=\"0 0 24 24\"\n",
              "       width=\"24px\">\n",
              "    <path d=\"M0 0h24v24H0V0z\" fill=\"none\"/>\n",
              "    <path d=\"M18.56 5.44l.94 2.06.94-2.06 2.06-.94-2.06-.94-.94-2.06-.94 2.06-2.06.94zm-11 1L8.5 8.5l.94-2.06 2.06-.94-2.06-.94L8.5 2.5l-.94 2.06-2.06.94zm10 10l.94 2.06.94-2.06 2.06-.94-2.06-.94-.94-2.06-.94 2.06-2.06.94z\"/><path d=\"M17.41 7.96l-1.37-1.37c-.4-.4-.92-.59-1.43-.59-.52 0-1.04.2-1.43.59L10.3 9.45l-7.72 7.72c-.78.78-.78 2.05 0 2.83L4 21.41c.39.39.9.59 1.41.59.51 0 1.02-.2 1.41-.59l7.78-7.78 2.81-2.81c.8-.78.8-2.07 0-2.86zM5.41 20L4 18.59l7.72-7.72 1.47 1.35L5.41 20z\"/>\n",
              "  </svg>\n",
              "      </button>\n",
              "\n",
              "\n",
              "\n",
              "    <div id=\"df-5bb54ebc-61f4-4234-802c-023742a0c017\">\n",
              "      <button class=\"colab-df-quickchart\" onclick=\"quickchart('df-5bb54ebc-61f4-4234-802c-023742a0c017')\"\n",
              "              title=\"Suggest charts.\"\n",
              "              style=\"display:none;\">\n",
              "\n",
              "<svg xmlns=\"http://www.w3.org/2000/svg\" height=\"24px\"viewBox=\"0 0 24 24\"\n",
              "     width=\"24px\">\n",
              "    <g>\n",
              "        <path d=\"M19 3H5c-1.1 0-2 .9-2 2v14c0 1.1.9 2 2 2h14c1.1 0 2-.9 2-2V5c0-1.1-.9-2-2-2zM9 17H7v-7h2v7zm4 0h-2V7h2v10zm4 0h-2v-4h2v4z\"/>\n",
              "    </g>\n",
              "</svg>\n",
              "      </button>\n",
              "    </div>\n",
              "\n",
              "<style>\n",
              "  .colab-df-quickchart {\n",
              "    background-color: #E8F0FE;\n",
              "    border: none;\n",
              "    border-radius: 50%;\n",
              "    cursor: pointer;\n",
              "    display: none;\n",
              "    fill: #1967D2;\n",
              "    height: 32px;\n",
              "    padding: 0 0 0 0;\n",
              "    width: 32px;\n",
              "  }\n",
              "\n",
              "  .colab-df-quickchart:hover {\n",
              "    background-color: #E2EBFA;\n",
              "    box-shadow: 0px 1px 2px rgba(60, 64, 67, 0.3), 0px 1px 3px 1px rgba(60, 64, 67, 0.15);\n",
              "    fill: #174EA6;\n",
              "  }\n",
              "\n",
              "  [theme=dark] .colab-df-quickchart {\n",
              "    background-color: #3B4455;\n",
              "    fill: #D2E3FC;\n",
              "  }\n",
              "\n",
              "  [theme=dark] .colab-df-quickchart:hover {\n",
              "    background-color: #434B5C;\n",
              "    box-shadow: 0px 1px 3px 1px rgba(0, 0, 0, 0.15);\n",
              "    filter: drop-shadow(0px 1px 2px rgba(0, 0, 0, 0.3));\n",
              "    fill: #FFFFFF;\n",
              "  }\n",
              "</style>\n",
              "\n",
              "    <script>\n",
              "      async function quickchart(key) {\n",
              "        const containerElement = document.querySelector('#' + key);\n",
              "        const charts = await google.colab.kernel.invokeFunction(\n",
              "            'suggestCharts', [key], {});\n",
              "      }\n",
              "    </script>\n",
              "\n",
              "      <script>\n",
              "\n",
              "function displayQuickchartButton(domScope) {\n",
              "  let quickchartButtonEl =\n",
              "    domScope.querySelector('#df-5bb54ebc-61f4-4234-802c-023742a0c017 button.colab-df-quickchart');\n",
              "  quickchartButtonEl.style.display =\n",
              "    google.colab.kernel.accessAllowed ? 'block' : 'none';\n",
              "}\n",
              "\n",
              "        displayQuickchartButton(document);\n",
              "      </script>\n",
              "      <style>\n",
              "    .colab-df-container {\n",
              "      display:flex;\n",
              "      flex-wrap:wrap;\n",
              "      gap: 12px;\n",
              "    }\n",
              "\n",
              "    .colab-df-convert {\n",
              "      background-color: #E8F0FE;\n",
              "      border: none;\n",
              "      border-radius: 50%;\n",
              "      cursor: pointer;\n",
              "      display: none;\n",
              "      fill: #1967D2;\n",
              "      height: 32px;\n",
              "      padding: 0 0 0 0;\n",
              "      width: 32px;\n",
              "    }\n",
              "\n",
              "    .colab-df-convert:hover {\n",
              "      background-color: #E2EBFA;\n",
              "      box-shadow: 0px 1px 2px rgba(60, 64, 67, 0.3), 0px 1px 3px 1px rgba(60, 64, 67, 0.15);\n",
              "      fill: #174EA6;\n",
              "    }\n",
              "\n",
              "    [theme=dark] .colab-df-convert {\n",
              "      background-color: #3B4455;\n",
              "      fill: #D2E3FC;\n",
              "    }\n",
              "\n",
              "    [theme=dark] .colab-df-convert:hover {\n",
              "      background-color: #434B5C;\n",
              "      box-shadow: 0px 1px 3px 1px rgba(0, 0, 0, 0.15);\n",
              "      filter: drop-shadow(0px 1px 2px rgba(0, 0, 0, 0.3));\n",
              "      fill: #FFFFFF;\n",
              "    }\n",
              "  </style>\n",
              "\n",
              "      <script>\n",
              "        const buttonEl =\n",
              "          document.querySelector('#df-34b94a98-ca3a-4575-9c1b-4a455f771295 button.colab-df-convert');\n",
              "        buttonEl.style.display =\n",
              "          google.colab.kernel.accessAllowed ? 'block' : 'none';\n",
              "\n",
              "        async function convertToInteractive(key) {\n",
              "          const element = document.querySelector('#df-34b94a98-ca3a-4575-9c1b-4a455f771295');\n",
              "          const dataTable =\n",
              "            await google.colab.kernel.invokeFunction('convertToInteractive',\n",
              "                                                     [key], {});\n",
              "          if (!dataTable) return;\n",
              "\n",
              "          const docLinkHtml = 'Like what you see? Visit the ' +\n",
              "            '<a target=\"_blank\" href=https://colab.research.google.com/notebooks/data_table.ipynb>data table notebook</a>'\n",
              "            + ' to learn more about interactive tables.';\n",
              "          element.innerHTML = '';\n",
              "          dataTable['output_type'] = 'display_data';\n",
              "          await google.colab.output.renderOutput(dataTable, element);\n",
              "          const docLink = document.createElement('div');\n",
              "          docLink.innerHTML = docLinkHtml;\n",
              "          element.appendChild(docLink);\n",
              "        }\n",
              "      </script>\n",
              "    </div>\n",
              "  </div>\n"
            ]
          },
          "metadata": {},
          "execution_count": 62
        }
      ]
    },
    {
      "cell_type": "code",
      "source": [
        "from sklearn.preprocessing import StandardScaler\n",
        "from sklearn.model_selection import train_test_split\n",
        "df_2 = df_1.copy()\n",
        "X = df_2.drop('isFraud',axis=1)\n",
        "y = df_2['isFraud']\n",
        "X_train, X_test, y_train, y_test = train_test_split(X, y, train_size=0.7, random_state=111)\n",
        "col_names=['amount','oldbalanceOrg','newbalanceOrig','oldbalanceDest','newbalanceDest']\n",
        "features_train = X_train[col_names]\n",
        "features_test = X_test[col_names]\n",
        "scaler = StandardScaler().fit(features_train.values)\n",
        "features_train = scaler.transform(features_train.values)\n",
        "features_test = scaler.transform(features_test.values)\n",
        "X_train[col_names] = features_train\n",
        "X_test[col_names] =features_test"
      ],
      "metadata": {
        "id": "N6sOcp54TshB"
      },
      "execution_count": 63,
      "outputs": []
    },
    {
      "cell_type": "code",
      "source": [
        "X_train=X_train.drop(['nameOrig','nameDest','isFlaggedFraud'],axis=1)\n",
        "X_train = X_train.reset_index(drop=True)\n",
        "X_test=X_test.drop(['nameOrig','nameDest','isFlaggedFraud'],axis=1)\n",
        "X_test = X_test.reset_index(drop=True)"
      ],
      "metadata": {
        "id": "NzDH4IIYYYbQ"
      },
      "execution_count": 64,
      "outputs": []
    },
    {
      "cell_type": "code",
      "source": [
        "from sklearn.neighbors import KNeighborsClassifier\n",
        "from sklearn.linear_model import LogisticRegression\n",
        "from sklearn.metrics import accuracy_score, classification_report, confusion_matrix\n",
        "from sklearn.tree import DecisionTreeClassifier\n",
        "from sklearn.ensemble import RandomForestClassifier\n",
        "from sklearn.ensemble import GradientBoostingClassifier\n",
        "models ={'KNN': KNeighborsClassifier(),\n",
        "         'LogReg': LogisticRegression(),\n",
        "         'dtree': DecisionTreeClassifier(),\n",
        "         'rforest': RandomForestClassifier(),\n",
        "         'GB': GradientBoostingClassifier()\n",
        "}\n",
        "names=[]\n",
        "scores=[]\n",
        "for name, model in models.items():\n",
        "    model.fit(X_train, y_train)\n",
        "    y_pred = model.predict(X_test)\n",
        "    score = accuracy_score(y_pred, y_test)\n",
        "    names.append(name)\n",
        "    scores.append(score)"
      ],
      "metadata": {
        "id": "WuS3J7oEU6uv"
      },
      "execution_count": 65,
      "outputs": []
    },
    {
      "cell_type": "code",
      "source": [
        "results = pd.DataFrame({'model': names, 'score': scores})\n",
        "results.sort_values(by='score', ascending=False)"
      ],
      "metadata": {
        "colab": {
          "base_uri": "https://localhost:8080/",
          "height": 206
        },
        "id": "j-uz-FulV_ck",
        "outputId": "d500a6e4-3f71-48cf-c46e-e2ab9fe0b1c6"
      },
      "execution_count": 66,
      "outputs": [
        {
          "output_type": "execute_result",
          "data": {
            "text/plain": [
              "     model     score\n",
              "3  rforest  1.000000\n",
              "4       GB  0.999967\n",
              "2    dtree  0.999933\n",
              "0      KNN  0.998631\n",
              "1   LogReg  0.974048"
            ],
            "text/html": [
              "\n",
              "\n",
              "  <div id=\"df-64125f67-bc5f-4ee3-8165-c81d4ef14f0b\">\n",
              "    <div class=\"colab-df-container\">\n",
              "      <div>\n",
              "<style scoped>\n",
              "    .dataframe tbody tr th:only-of-type {\n",
              "        vertical-align: middle;\n",
              "    }\n",
              "\n",
              "    .dataframe tbody tr th {\n",
              "        vertical-align: top;\n",
              "    }\n",
              "\n",
              "    .dataframe thead th {\n",
              "        text-align: right;\n",
              "    }\n",
              "</style>\n",
              "<table border=\"1\" class=\"dataframe\">\n",
              "  <thead>\n",
              "    <tr style=\"text-align: right;\">\n",
              "      <th></th>\n",
              "      <th>model</th>\n",
              "      <th>score</th>\n",
              "    </tr>\n",
              "  </thead>\n",
              "  <tbody>\n",
              "    <tr>\n",
              "      <th>3</th>\n",
              "      <td>rforest</td>\n",
              "      <td>1.000000</td>\n",
              "    </tr>\n",
              "    <tr>\n",
              "      <th>4</th>\n",
              "      <td>GB</td>\n",
              "      <td>0.999967</td>\n",
              "    </tr>\n",
              "    <tr>\n",
              "      <th>2</th>\n",
              "      <td>dtree</td>\n",
              "      <td>0.999933</td>\n",
              "    </tr>\n",
              "    <tr>\n",
              "      <th>0</th>\n",
              "      <td>KNN</td>\n",
              "      <td>0.998631</td>\n",
              "    </tr>\n",
              "    <tr>\n",
              "      <th>1</th>\n",
              "      <td>LogReg</td>\n",
              "      <td>0.974048</td>\n",
              "    </tr>\n",
              "  </tbody>\n",
              "</table>\n",
              "</div>\n",
              "      <button class=\"colab-df-convert\" onclick=\"convertToInteractive('df-64125f67-bc5f-4ee3-8165-c81d4ef14f0b')\"\n",
              "              title=\"Convert this dataframe to an interactive table.\"\n",
              "              style=\"display:none;\">\n",
              "\n",
              "  <svg xmlns=\"http://www.w3.org/2000/svg\" height=\"24px\"viewBox=\"0 0 24 24\"\n",
              "       width=\"24px\">\n",
              "    <path d=\"M0 0h24v24H0V0z\" fill=\"none\"/>\n",
              "    <path d=\"M18.56 5.44l.94 2.06.94-2.06 2.06-.94-2.06-.94-.94-2.06-.94 2.06-2.06.94zm-11 1L8.5 8.5l.94-2.06 2.06-.94-2.06-.94L8.5 2.5l-.94 2.06-2.06.94zm10 10l.94 2.06.94-2.06 2.06-.94-2.06-.94-.94-2.06-.94 2.06-2.06.94z\"/><path d=\"M17.41 7.96l-1.37-1.37c-.4-.4-.92-.59-1.43-.59-.52 0-1.04.2-1.43.59L10.3 9.45l-7.72 7.72c-.78.78-.78 2.05 0 2.83L4 21.41c.39.39.9.59 1.41.59.51 0 1.02-.2 1.41-.59l7.78-7.78 2.81-2.81c.8-.78.8-2.07 0-2.86zM5.41 20L4 18.59l7.72-7.72 1.47 1.35L5.41 20z\"/>\n",
              "  </svg>\n",
              "      </button>\n",
              "\n",
              "\n",
              "\n",
              "    <div id=\"df-96377322-2325-468f-b056-ed0c5f367ca1\">\n",
              "      <button class=\"colab-df-quickchart\" onclick=\"quickchart('df-96377322-2325-468f-b056-ed0c5f367ca1')\"\n",
              "              title=\"Suggest charts.\"\n",
              "              style=\"display:none;\">\n",
              "\n",
              "<svg xmlns=\"http://www.w3.org/2000/svg\" height=\"24px\"viewBox=\"0 0 24 24\"\n",
              "     width=\"24px\">\n",
              "    <g>\n",
              "        <path d=\"M19 3H5c-1.1 0-2 .9-2 2v14c0 1.1.9 2 2 2h14c1.1 0 2-.9 2-2V5c0-1.1-.9-2-2-2zM9 17H7v-7h2v7zm4 0h-2V7h2v10zm4 0h-2v-4h2v4z\"/>\n",
              "    </g>\n",
              "</svg>\n",
              "      </button>\n",
              "    </div>\n",
              "\n",
              "<style>\n",
              "  .colab-df-quickchart {\n",
              "    background-color: #E8F0FE;\n",
              "    border: none;\n",
              "    border-radius: 50%;\n",
              "    cursor: pointer;\n",
              "    display: none;\n",
              "    fill: #1967D2;\n",
              "    height: 32px;\n",
              "    padding: 0 0 0 0;\n",
              "    width: 32px;\n",
              "  }\n",
              "\n",
              "  .colab-df-quickchart:hover {\n",
              "    background-color: #E2EBFA;\n",
              "    box-shadow: 0px 1px 2px rgba(60, 64, 67, 0.3), 0px 1px 3px 1px rgba(60, 64, 67, 0.15);\n",
              "    fill: #174EA6;\n",
              "  }\n",
              "\n",
              "  [theme=dark] .colab-df-quickchart {\n",
              "    background-color: #3B4455;\n",
              "    fill: #D2E3FC;\n",
              "  }\n",
              "\n",
              "  [theme=dark] .colab-df-quickchart:hover {\n",
              "    background-color: #434B5C;\n",
              "    box-shadow: 0px 1px 3px 1px rgba(0, 0, 0, 0.15);\n",
              "    filter: drop-shadow(0px 1px 2px rgba(0, 0, 0, 0.3));\n",
              "    fill: #FFFFFF;\n",
              "  }\n",
              "</style>\n",
              "\n",
              "    <script>\n",
              "      async function quickchart(key) {\n",
              "        const containerElement = document.querySelector('#' + key);\n",
              "        const charts = await google.colab.kernel.invokeFunction(\n",
              "            'suggestCharts', [key], {});\n",
              "      }\n",
              "    </script>\n",
              "\n",
              "      <script>\n",
              "\n",
              "function displayQuickchartButton(domScope) {\n",
              "  let quickchartButtonEl =\n",
              "    domScope.querySelector('#df-96377322-2325-468f-b056-ed0c5f367ca1 button.colab-df-quickchart');\n",
              "  quickchartButtonEl.style.display =\n",
              "    google.colab.kernel.accessAllowed ? 'block' : 'none';\n",
              "}\n",
              "\n",
              "        displayQuickchartButton(document);\n",
              "      </script>\n",
              "      <style>\n",
              "    .colab-df-container {\n",
              "      display:flex;\n",
              "      flex-wrap:wrap;\n",
              "      gap: 12px;\n",
              "    }\n",
              "\n",
              "    .colab-df-convert {\n",
              "      background-color: #E8F0FE;\n",
              "      border: none;\n",
              "      border-radius: 50%;\n",
              "      cursor: pointer;\n",
              "      display: none;\n",
              "      fill: #1967D2;\n",
              "      height: 32px;\n",
              "      padding: 0 0 0 0;\n",
              "      width: 32px;\n",
              "    }\n",
              "\n",
              "    .colab-df-convert:hover {\n",
              "      background-color: #E2EBFA;\n",
              "      box-shadow: 0px 1px 2px rgba(60, 64, 67, 0.3), 0px 1px 3px 1px rgba(60, 64, 67, 0.15);\n",
              "      fill: #174EA6;\n",
              "    }\n",
              "\n",
              "    [theme=dark] .colab-df-convert {\n",
              "      background-color: #3B4455;\n",
              "      fill: #D2E3FC;\n",
              "    }\n",
              "\n",
              "    [theme=dark] .colab-df-convert:hover {\n",
              "      background-color: #434B5C;\n",
              "      box-shadow: 0px 1px 3px 1px rgba(0, 0, 0, 0.15);\n",
              "      filter: drop-shadow(0px 1px 2px rgba(0, 0, 0, 0.3));\n",
              "      fill: #FFFFFF;\n",
              "    }\n",
              "  </style>\n",
              "\n",
              "      <script>\n",
              "        const buttonEl =\n",
              "          document.querySelector('#df-64125f67-bc5f-4ee3-8165-c81d4ef14f0b button.colab-df-convert');\n",
              "        buttonEl.style.display =\n",
              "          google.colab.kernel.accessAllowed ? 'block' : 'none';\n",
              "\n",
              "        async function convertToInteractive(key) {\n",
              "          const element = document.querySelector('#df-64125f67-bc5f-4ee3-8165-c81d4ef14f0b');\n",
              "          const dataTable =\n",
              "            await google.colab.kernel.invokeFunction('convertToInteractive',\n",
              "                                                     [key], {});\n",
              "          if (!dataTable) return;\n",
              "\n",
              "          const docLinkHtml = 'Like what you see? Visit the ' +\n",
              "            '<a target=\"_blank\" href=https://colab.research.google.com/notebooks/data_table.ipynb>data table notebook</a>'\n",
              "            + ' to learn more about interactive tables.';\n",
              "          element.innerHTML = '';\n",
              "          dataTable['output_type'] = 'display_data';\n",
              "          await google.colab.output.renderOutput(dataTable, element);\n",
              "          const docLink = document.createElement('div');\n",
              "          docLink.innerHTML = docLinkHtml;\n",
              "          element.appendChild(docLink);\n",
              "        }\n",
              "      </script>\n",
              "    </div>\n",
              "  </div>\n"
            ]
          },
          "metadata": {},
          "execution_count": 66
        }
      ]
    },
    {
      "cell_type": "markdown",
      "source": [
        "So , we can see that Random Forest has the highest classification score and hence , we will use it as well"
      ],
      "metadata": {
        "id": "TQyU0L5jXYGk"
      }
    },
    {
      "cell_type": "code",
      "source": [
        "rforest = RandomForestClassifier()\n",
        "rforest.fit(X_train, y_train)\n",
        "y_pred = rforest.predict(X_test)\n",
        "score = accuracy_score(y_pred, y_test)\n",
        "print(score)"
      ],
      "metadata": {
        "colab": {
          "base_uri": "https://localhost:8080/"
        },
        "id": "oHeb5QpoXRW8",
        "outputId": "d1acd660-699a-437d-c774-06a368bb2253"
      },
      "execution_count": 67,
      "outputs": [
        {
          "output_type": "stream",
          "name": "stdout",
          "text": [
            "1.0\n"
          ]
        }
      ]
    },
    {
      "cell_type": "markdown",
      "source": [
        "So , we have an exact accuracy score of 1 while using Random Forest Classifier"
      ],
      "metadata": {
        "id": "zAbHYy9yXWyv"
      }
    },
    {
      "cell_type": "code",
      "source": [
        "report = classification_report(y_test, y_pred)\n",
        "print(report)"
      ],
      "metadata": {
        "colab": {
          "base_uri": "https://localhost:8080/"
        },
        "id": "NFfaouomYKYw",
        "outputId": "b0a35511-c264-4969-c953-921c41777f0c"
      },
      "execution_count": 68,
      "outputs": [
        {
          "output_type": "stream",
          "name": "stdout",
          "text": [
            "              precision    recall  f1-score   support\n",
            "\n",
            "           0       1.00      1.00      1.00     14902\n",
            "           1       1.00      1.00      1.00     15038\n",
            "\n",
            "    accuracy                           1.00     29940\n",
            "   macro avg       1.00      1.00      1.00     29940\n",
            "weighted avg       1.00      1.00      1.00     29940\n",
            "\n"
          ]
        }
      ]
    },
    {
      "cell_type": "code",
      "source": [],
      "metadata": {
        "id": "ZAr8dBYIYUzb"
      },
      "execution_count": 68,
      "outputs": []
    }
  ]
}